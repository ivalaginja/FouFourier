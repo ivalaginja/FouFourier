{
 "cells": [
  {
   "cell_type": "markdown",
   "metadata": {},
   "source": [
    "# Fourier transforms of simple 2D functions\n",
    "\n",
    "So, in our application of optics, we will not be dealing with one dimensional plots but with two dimensional images instead. This means that our function $f$ in direct space is a function of **two** independent spatial variables, $f = f(x, y)$, and the FT of that will also have two independent spatial frequency variables, $F = F(s, r)$.\n",
    "\n",
    "The two-dimensional Fourier transform does exactly the same like the one-dimensional FT, decompose a signal in its sinusoidal components except that we now have to think all across a 2D surface as opposed to a single, 1D line.\n",
    "\n",
    "We have not touched yet any of the important basic theorems, but I though it is really important to get the visualizations for 2D transforms in, especially since this will set us up for jumping into Fourier Optics and from then on work with the optical application on our minds.\n",
    "\n",
    "The analytical definition of the 2D FT is:\n",
    "\n",
    "$$F(s, r) = \\mathscr{F}\\{f(x, y)\\}(s, r) = \\int_{-\\infty}^{\\infty} \\int_{-\\infty}^{\\infty} f(x, y) e^{-i 2 \\pi (x s+yr)} dx dy$$"
   ]
  },
  {
   "cell_type": "code",
   "execution_count": 2,
   "metadata": {},
   "outputs": [],
   "source": [
    "#TODO: will need matplotlib 3D:\n",
    "# https://matplotlib.org/mpl_toolkits/mplot3d/tutorial.html\n",
    "\n",
    "#TODO: rectangle\n",
    "#TODO: Gaussian\n",
    "#TODO: circular disk\n",
    "#TODO: 2D combos of sines and cosines\n",
    "#TODO: random apertures - hm, maybe better to put this in nb6, since that's where we get optics context\n",
    "# two rectanlges (slits), ring, square with square hole; circular with struts and central obscuration, hexagonal, etc, etc, etc, ..."
   ]
  },
  {
   "cell_type": "code",
   "execution_count": null,
   "metadata": {},
   "outputs": [],
   "source": []
  },
  {
   "cell_type": "code",
   "execution_count": 1,
   "metadata": {},
   "outputs": [],
   "source": [
    "#TODO: want to look through this:\n",
    "#http://www.robots.ox.ac.uk/~az/lectures/ia/lect2.pdf"
   ]
  }
 ],
 "metadata": {
  "kernelspec": {
   "display_name": "Python 3",
   "language": "python",
   "name": "python3"
  },
  "language_info": {
   "codemirror_mode": {
    "name": "ipython",
    "version": 3
   },
   "file_extension": ".py",
   "mimetype": "text/x-python",
   "name": "python",
   "nbconvert_exporter": "python",
   "pygments_lexer": "ipython3",
   "version": "3.7.2"
  }
 },
 "nbformat": 4,
 "nbformat_minor": 2
}
