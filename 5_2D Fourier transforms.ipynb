{
 "cells": [
  {
   "cell_type": "markdown",
   "metadata": {},
   "source": [
    "# Fourier transforms of simple 2D functions\n",
    "\n",
    "So, in our application of optics, we will not be dealing with one dimensional plots but with two dimensional images instead. This means that our function $f$ in direct space is a function of **two** independent spatial variables, $f = f(x, y)$, and the FT of that will also have two independent spatial frequency variables, $F = F(s, r)$.\n",
    "\n",
    "The two-dimensional Fourier transform does exactly the same like the one-dimensional FT, decompose a signal in its sinusoidal components except that we now have to think all across a 2D surface as opposed to a single, 1D line.\n",
    "\n",
    "We have not touched yet any of the important basic theorems, but I though it is really important to get the visualizations for 2D transforms in, especially since this will set us up for jumping into Fourier Optics and from then on work with the optical application on our minds.\n",
    "\n",
    "The analytical definition of the 2D FT is:\n",
    "\n",
    "$$F(s, r) = \\mathscr{F}\\{f(x, y)\\}(s, r) = \\int_{-\\infty}^{\\infty} \\int_{-\\infty}^{\\infty} f(x, y) e^{-i 2 \\pi (x s+yr)} dx dy$$\n",
    "\n",
    "There are many functions $f(x,y)$ that have a well-defined analytical Fourier transform, but I will refrain from showing them here and focus only on the numerical implementation."
   ]
  },
  {
   "cell_type": "code",
   "execution_count": null,
   "metadata": {
    "collapsed": true
   },
   "outputs": [],
   "source": [
    "import numpy as np\n",
    "import matplotlib.pyplot as plt\n",
    "from mpl_toolkits.mplot3d import Axes3D   # this is for surface plots\n",
    "from matplotlib import cm\n",
    "%matplotlib inline"
   ]
  },
  {
   "cell_type": "markdown",
   "metadata": {},
   "source": [
    "Like for the 1D case, we will define some convenience functions that will perform a 2D Fourier Transform with the respective array shifts needed. And I define some utility functions."
   ]
  },
  {
   "cell_type": "code",
   "execution_count": null,
   "metadata": {
    "collapsed": true
   },
   "outputs": [],
   "source": [
    "def ft2d(func):\n",
    "    ft = np.fft.fftshift(np.fft.fft2(np.fft.ifftshift(func)))\n",
    "    return ft\n",
    "\n",
    "def ift2d(func):\n",
    "    ift = np.fft.fftshift(np.fft.ifft2(np.fft.ifftshift(func)))\n",
    "    return ift\n",
    "\n",
    "def ft1d_freq(x):\n",
    "    \"\"\"Calculate the (spatial) frequency array based on the spatial array x.\"\"\"\n",
    "    s = np.fft.fftshift(np.fft.fftfreq(x.size, d=x[-1]-x[-2]))\n",
    "    return s\n",
    "\n",
    "def zoom(im, x, y, bb):\n",
    "    \"\"\"Cut out a square box from image im centered on (x,y) with half-box size bb.\"\"\"\n",
    "    return(im[y-bb:y+bb,x-bb:x+bb])\n",
    "\n",
    "def padcplx(c, pad=5):\n",
    "    \"\"\"Puts a Complex array in the centre of a zero-filled Complex array.\n",
    "    pad defines the padding multiplier for the output array.\"\"\"\n",
    "    (nx, ny) = c.shape\n",
    "    bignx = nx * pad + 1\n",
    "    bigny = ny * pad + 1\n",
    "    big_c = np.zeros((bignx, bigny),dtype=complex)\n",
    "    \n",
    "    dx = int((nx * (pad-1)) / 2 + 1)\n",
    "    dy = int((ny * (pad-1)) / 2 + 1)\n",
    "    \n",
    "    big_c[dx:dx+nx,dy:dy+ny] = c\n",
    "    return(big_c)"
   ]
  },
  {
   "cell_type": "markdown",
   "metadata": {},
   "source": [
    "## Setting up the grids\n",
    "\n",
    "We will first generate a grid for the independent variables $x$ and $y$. I chose the grid to have unity size and go from -0.5 to 0.5 so that I only ever have to define the sizes of my functions $f(x,y)$ with respect to the total grid."
   ]
  },
  {
   "cell_type": "code",
   "execution_count": null,
   "metadata": {
    "collapsed": true
   },
   "outputs": [],
   "source": [
    "# We first need to generate the independent variables,\n",
    "# this time as a 2D grid.\n",
    "npix = 512\n",
    "\n",
    "lin = np.linspace(-0.5, 0.5, npix)\n",
    "xx, yy = np.meshgrid(lin, lin)\n",
    "\n",
    "print(\"Shape of xx: {}\".format(xx.shape))\n",
    "print(\"Shape of yy: {}\".format(yy.shape))\n",
    "print(\"xx[:3,0]: {}\".format(xx[:3,0]))\n",
    "print(\"xx[-3:,0]: {}\".format(xx[-3:,0]))\n",
    "\n",
    "plt.figure(figsize=(10,10))\n",
    "plt.subplot(1, 2, 1)\n",
    "plt.imshow(xx)\n",
    "plt.title('xx')\n",
    "plt.colorbar()\n",
    "plt.subplot(1, 2, 2)\n",
    "plt.imshow(yy)\n",
    "plt.title('yy')\n",
    "plt.colorbar()"
   ]
  },
  {
   "cell_type": "markdown",
   "metadata": {},
   "source": [
    "We will also set up the spatial frequency arrays for the variables $s$ and $r$.  \n",
    "\n",
    "Now, one thing that I don't want to get into in this notebook just yet is the subject of *padding* and *sampling*. I was able to get away with ignoring these things in the 1D cases because I just picked my different $f(x)$ in such a way that we were never undersampled and I never had to tweak the plots much in order to get nice displays. This gets more complicated in the 2D case and while I could still be smart about it in the same way, the plotting will need major adjustments, so I can just as well add the padding now to make my life easier.\n",
    "\n",
    "Again, I will come back to this at a later point, the short version is that we need to shove our $f(x,y)$ images into bigger arrays that pad the function before performing a Fourier transform. This means that the data points we are interested in only take up a small fraction of the arrays we're dealing with, and I will need to either adjust the plot ranges or specifically cut out the data parts that we want to inspect."
   ]
  },
  {
   "cell_type": "code",
   "execution_count": null,
   "metadata": {
    "collapsed": true
   },
   "outputs": [],
   "source": [
    "pad = 5   # factor by how much do we pad our images before performing a FT\n",
    "\n",
    "npix_pad = npix*pad+1   # figure out the padded big array sizes after the FT\n",
    "xsf = np.linspace(-0.5, 0.5, npix_pad)\n",
    "gf = ft1d_freq(xsf)\n",
    "ss, rr = np.meshgrid(gf, gf)   # create the spatial frequency grids\n",
    "\n",
    "print(\"Shape of ss: {}\".format(ss.shape))\n",
    "print(\"Shape of rr: {}\".format(rr.shape))\n",
    "\n",
    "plt.figure(figsize=(10,10))\n",
    "plt.subplot(1, 2, 1)\n",
    "plt.imshow(xx)\n",
    "plt.title('ss')\n",
    "plt.subplot(1, 2, 2)\n",
    "plt.imshow(yy)\n",
    "plt.title('rr')"
   ]
  },
  {
   "cell_type": "markdown",
   "metadata": {},
   "source": [
    "## A 2D rectangle - a rectangular aperture\n",
    "\n",
    "### Numerical representation of the rectangle function\n",
    "\n",
    "We can represent a rectangular aperture with a 2D function where the function value at each point on the grid is the amplitude of the aperture at that point. In the application of optics, simple shapes like squares, rectangles or circles are usually the functions used to describe pupil apertures, so the amplitude of a function like that is equivalent to the transmission of the aperture. In the simplest case, the aperture function will have non-zero values inside the aperture where it is transmissive to the (optical) signal and zeros outside of it, where we have no signal. Since the two extreme cases here are \"all signal\" vs. \"no signal\", we can represent that with zeros and ones. If we have an aperture that is partially transmissive in some areas, it will contain values between 0 and 1 there. In practical terms, this means that our $A$ will always have values between 0 and 1."
   ]
  },
  {
   "cell_type": "code",
   "execution_count": null,
   "metadata": {
    "collapsed": true
   },
   "outputs": [],
   "source": [
    "# Define a function for the rectangular aperture.\n",
    "# The expression below returns values of True or\n",
    "# False, so we have to convert that into floats.\n",
    "def rect2d(size):\n",
    "    \"\"\"Rectangluar aperture. size is a tupel (x,y).\"\"\"\n",
    "    rect = (np.abs(xx) <= (size[0]/2)) * (np.abs(yy) <= (size[1]/2))\n",
    "    return rect.astype('float')"
   ]
  },
  {
   "cell_type": "code",
   "execution_count": null,
   "metadata": {
    "collapsed": true
   },
   "outputs": [],
   "source": [
    "# Create a rectangular aperture\n",
    "A = 1\n",
    "T = (0.4, 0.2)   # x and y size of the rectangular aperture\n",
    "rect_ap = rect2d(T)\n",
    "\n",
    "# Display the full function\n",
    "fig = plt.figure(figsize=(15,7))\n",
    "ax = fig.add_subplot(111, projection='3d')\n",
    "ax.plot_surface(xx, yy, rect_ap)\n",
    "ax.set_title('$f(x, y)$ - rectangular aperture')\n",
    "ax.set_xlabel('x')\n",
    "ax.set_ylabel('y')"
   ]
  },
  {
   "cell_type": "markdown",
   "metadata": {
    "collapsed": true
   },
   "source": [
    "Oftentimes it will not give us any extra information to display a 2D function like this, but instead the amplitude of the function at each point will be indicated by different colors in an instance of `plt.imshow()`."
   ]
  },
  {
   "cell_type": "code",
   "execution_count": null,
   "metadata": {
    "collapsed": true
   },
   "outputs": [],
   "source": [
    "# Display the rectangular aperture wtih imshow()\n",
    "plt.figure(figsize=(5, 5))\n",
    "plt.imshow(rect_ap)\n",
    "plt.colorbar()"
   ]
  },
  {
   "cell_type": "markdown",
   "metadata": {
    "collapsed": true
   },
   "source": [
    "We can see how the the transmissive part of this aperture is filled with ones, while the opaque parts around it are filled with zeros.\n",
    "\n",
    "### FT of a rectangular aperture\n",
    "\n",
    "I will show the functions in the following both in a 3D surface plot as well as on a 2D image, just to give a feeling for what's going on. Also, remember that `plt.imshow()` cannot plot complex numbers, and as opposed to `plt.plot()` it will *not* default to plotting the real part, but will raise an error instead. We have to speficy what we want it to show us."
   ]
  },
  {
   "cell_type": "code",
   "execution_count": null,
   "metadata": {
    "collapsed": true
   },
   "outputs": [],
   "source": [
    "# Calculate the FT\n",
    "rec_ft = ft2d(padcplx(rect_ap))\n",
    "\n",
    "# Plot\n",
    "fig = plt.figure(figsize=(15,15))\n",
    "plt.suptitle('$F(s,r)$')\n",
    "\n",
    "ax1 = fig.add_subplot(221, projection='3d')\n",
    "ax1.plot_surface(ss, rr, np.real(rec_ft), cmap=cm.coolwarm)\n",
    "ax1.set_title('Real')\n",
    "ax1.set_xlabel('x')\n",
    "ax1.set_ylabel('y')\n",
    "ax1.view_init(10, -60)\n",
    "ax1.set_zlim3d(-5000,5000)\n",
    "\n",
    "ax2 = fig.add_subplot(222, projection='3d')\n",
    "ax2.plot_surface(ss, rr, np.imag(rec_ft), cmap=cm.coolwarm)\n",
    "ax2.set_title('Imaginary')\n",
    "ax2.set_xlabel('x')\n",
    "ax2.set_ylabel('y')\n",
    "ax2.view_init(30, -60)\n",
    "\n",
    "ax3 = fig.add_subplot(223)\n",
    "im1 = ax3.imshow(np.real(rec_ft))\n",
    "ax3.set_title('Real')\n",
    "fig.colorbar(im1)\n",
    "\n",
    "ax4 = fig.add_subplot(224)\n",
    "im2 = ax4.imshow(np.imag(rec_ft))\n",
    "ax4.set_title('Imaginary')\n",
    "fig.colorbar(im1)"
   ]
  },
  {
   "cell_type": "markdown",
   "metadata": {
    "collapsed": true
   },
   "source": [
    "This might not look like much at first, but everything is ok here. All we have to do is zoom in a little in order to see the parts that are interesting to us (see also my note in the first part of the notebook where I create the grids).  \n",
    "\n",
    "Also, we can see that the imaginary part of the FT is just noise and not interesting to us right now."
   ]
  },
  {
   "cell_type": "code",
   "execution_count": null,
   "metadata": {
    "collapsed": true
   },
   "outputs": [],
   "source": [
    "# Zoom into the FT of the rectangular aperture\n",
    "zoomfac = 20     # half-size of the zoom box will be 1/zoomfac of total image\n",
    "box = int(npix_pad/zoomfac)\n",
    "\n",
    "# This is a smaller data array wiht our region of interest.\n",
    "rec_ft_zoom = zoom(rec_ft, int(npix_pad/2), int(npix_pad/2), box)\n",
    "\n",
    "# I also have to adjust our s and r grids to match the zoomed data size\n",
    "sz = zoom(ss, int(npix_pad/2), int(npix_pad/2), box)\n",
    "rz = zoom(rr, int(npix_pad/2), int(npix_pad/2), box)\n",
    "\n",
    "# Plot\n",
    "fig = plt.figure(figsize=(20,7))\n",
    "ax1 = fig.add_subplot(121, projection='3d')\n",
    "ax1.plot_surface(sz, rz, np.real(rec_ft_zoom), cmap=cm.coolwarm)\n",
    "ax1.set_title('$F(s,r)$')\n",
    "ax1.set_xlabel('x')\n",
    "ax1.set_ylabel('y')\n",
    "ax1.view_init(10, -60)\n",
    "ax1.set_zlim3d(-5000,20000)\n",
    "\n",
    "ax3 = fig.add_subplot(122)\n",
    "im1 = ax3.imshow(np.real(rec_ft_zoom))\n",
    "ax3.set_title('$F(s,r)$')\n",
    "fig.colorbar(im1)"
   ]
  },
  {
   "cell_type": "markdown",
   "metadata": {
    "collapsed": true
   },
   "source": [
    "Nice! We can see very well in the right hand plot what the FT of a rectangular aperture looks like. Let's move on to different 2D functions $f(x,y)$ that we want to transform.\n",
    "\n",
    "## Circular aperture\n",
    "\n",
    "The circular aperture is a classic one, since the standard case for a telescope is a circular entrance pupil."
   ]
  },
  {
   "cell_type": "code",
   "execution_count": null,
   "metadata": {
    "collapsed": true
   },
   "outputs": [],
   "source": [
    "# Define a function for a circular aperture\n",
    "def circle_mask(im, xc, yc, rcirc):\n",
    "    \"\"\"Create a circular aperture centered on (xc, yc) with radius rcirc.\"\"\"\n",
    "    x, y = np.shape(im)\n",
    "    newy, newx = np.mgrid[:y,:x]\n",
    "    circ = (newx-xc)**2 + (newy-yc)**2 < rcirc**2\n",
    "    return circ"
   ]
  },
  {
   "cell_type": "code",
   "execution_count": null,
   "metadata": {
    "collapsed": true
   },
   "outputs": [],
   "source": [
    "# Create a rectangular aperture\n",
    "A = 1\n",
    "rad = 0.7 * npix/2   # x and y size of the rectangular aperture\n",
    "circ_ap = circle_mask(xx, int(npix/2), int(npix/2), rad)\n",
    "\n",
    "# Plot\n",
    "fig = plt.figure(figsize=(15,7))\n",
    "plt.suptitle('$f(x, y)$ - circular aperture')\n",
    "\n",
    "ax1 = fig.add_subplot(121, projection='3d')\n",
    "ax1.plot_surface(xx, yy, circ_ap)\n",
    "ax1.set_xlabel('x')\n",
    "ax1.set_ylabel('y')\n",
    "\n",
    "ax2 = fig.add_subplot(122)\n",
    "im1 = ax2.imshow(circ_ap)\n",
    "#fig.colorbar(im1)"
   ]
  },
  {
   "cell_type": "markdown",
   "metadata": {},
   "source": [
    "### FT of a circular aperture"
   ]
  },
  {
   "cell_type": "code",
   "execution_count": null,
   "metadata": {
    "collapsed": true
   },
   "outputs": [],
   "source": [
    "# Calculate the FT\n",
    "circ_ft = ft2d(padcplx(circ_ap))"
   ]
  },
  {
   "cell_type": "code",
   "execution_count": null,
   "metadata": {
    "collapsed": true
   },
   "outputs": [],
   "source": [
    "# Plot\n",
    "zoomfac = 30     # half-size of the zoom box will be 1/zoomfac of total image\n",
    "box = int(npix_pad/zoomfac)\n",
    "\n",
    "# This is a smaller data array wiht our region of interest.\n",
    "circ_ft_zoom = zoom(circ_ft, int(npix_pad/2), int(npix_pad/2), box)\n",
    "\n",
    "# I also have to adjust our s and r grids to match the zoomed data size\n",
    "sz = zoom(ss, int(npix_pad/2), int(npix_pad/2), box)\n",
    "rz = zoom(rr, int(npix_pad/2), int(npix_pad/2), box)\n",
    "\n",
    "# Plot\n",
    "fig = plt.figure(figsize=(20,7))\n",
    "ax1 = fig.add_subplot(121, projection='3d')\n",
    "ax1.plot_surface(sz, rz, np.real(circ_ft_zoom), cmap=cm.coolwarm)\n",
    "ax1.set_title('$F(s,r)$')\n",
    "ax1.set_xlabel('x')\n",
    "ax1.set_ylabel('y')\n",
    "ax1.view_init(10, -60)\n",
    "\n",
    "ax3 = fig.add_subplot(122)\n",
    "im1 = ax3.imshow(np.real(circ_ft_zoom))\n",
    "ax3.set_title('$F(s,r)$')\n",
    "fig.colorbar(im1)"
   ]
  },
  {
   "cell_type": "markdown",
   "metadata": {},
   "source": [
    "### Inverse FT\n",
    "\n",
    "Let's see whether doing the inverse Fourier transform of the Fourier transform yields what we'd expect, like we did in the 1D case."
   ]
  },
  {
   "cell_type": "code",
   "execution_count": null,
   "metadata": {
    "collapsed": true
   },
   "outputs": [],
   "source": [
    "# Take the inverse FT\n",
    "circ_ft_back = ift2d(circ_ft)"
   ]
  },
  {
   "cell_type": "code",
   "execution_count": null,
   "metadata": {
    "collapsed": true
   },
   "outputs": [],
   "source": [
    "# Plot\n",
    "circ_ft_back_zoom = zoom(circ_ft_back, int(npix_pad/2), int(npix_pad/2), int(npix/2))\n",
    "\n",
    "\n",
    "fig = plt.figure(figsize=(15,7))\n",
    "plt.suptitle('$f(x, y)$ - circular aperture')\n",
    "\n",
    "ax1 = fig.add_subplot(121, projection='3d')\n",
    "ax1.plot_surface(xx, yy, np.real(circ_ft_back_zoom))\n",
    "ax1.set_xlabel('x')\n",
    "ax1.set_ylabel('y')\n",
    "\n",
    "ax2 = fig.add_subplot(122)\n",
    "ax2.imshow(np.real(circ_ft_back_zoom))"
   ]
  },
  {
   "cell_type": "markdown",
   "metadata": {},
   "source": [
    "Looking pretty good, on to the next one.\n",
    "\n",
    "## Gaussian"
   ]
  },
  {
   "cell_type": "code",
   "execution_count": null,
   "metadata": {
    "collapsed": true
   },
   "outputs": [],
   "source": []
  },
  {
   "cell_type": "code",
   "execution_count": null,
   "metadata": {
    "collapsed": true
   },
   "outputs": [],
   "source": []
  },
  {
   "cell_type": "markdown",
   "metadata": {},
   "source": [
    "## 2D sines and cosines"
   ]
  },
  {
   "cell_type": "code",
   "execution_count": null,
   "metadata": {
    "collapsed": true
   },
   "outputs": [],
   "source": []
  },
  {
   "cell_type": "code",
   "execution_count": null,
   "metadata": {
    "collapsed": true
   },
   "outputs": [],
   "source": []
  },
  {
   "cell_type": "markdown",
   "metadata": {},
   "source": [
    "## Slits - two rectangles"
   ]
  },
  {
   "cell_type": "code",
   "execution_count": null,
   "metadata": {
    "collapsed": true
   },
   "outputs": [],
   "source": []
  },
  {
   "cell_type": "code",
   "execution_count": null,
   "metadata": {
    "collapsed": true
   },
   "outputs": [],
   "source": []
  },
  {
   "cell_type": "markdown",
   "metadata": {},
   "source": [
    "## Ring"
   ]
  },
  {
   "cell_type": "code",
   "execution_count": null,
   "metadata": {
    "collapsed": true
   },
   "outputs": [],
   "source": []
  },
  {
   "cell_type": "code",
   "execution_count": null,
   "metadata": {
    "collapsed": true
   },
   "outputs": [],
   "source": []
  },
  {
   "cell_type": "markdown",
   "metadata": {},
   "source": [
    "## Two dots"
   ]
  },
  {
   "cell_type": "code",
   "execution_count": null,
   "metadata": {
    "collapsed": true
   },
   "outputs": [],
   "source": []
  },
  {
   "cell_type": "code",
   "execution_count": null,
   "metadata": {
    "collapsed": true
   },
   "outputs": [],
   "source": []
  },
  {
   "cell_type": "code",
   "execution_count": null,
   "metadata": {
    "collapsed": true
   },
   "outputs": [],
   "source": []
  },
  {
   "cell_type": "code",
   "execution_count": null,
   "metadata": {
    "collapsed": true
   },
   "outputs": [],
   "source": [
    "#TODO: random apertures - hm, maybe better to put this in nb6, since that's where we get optics context:\n",
    "# -> circular with struts and central obscuration, hexagonal, etc, etc, etc, ...\n",
    "\n",
    "#TODO: all the 3D plots kinda look like shit, I need to improve them"
   ]
  },
  {
   "cell_type": "code",
   "execution_count": null,
   "metadata": {
    "collapsed": true
   },
   "outputs": [],
   "source": []
  },
  {
   "cell_type": "code",
   "execution_count": null,
   "metadata": {
    "collapsed": true
   },
   "outputs": [],
   "source": [
    "#TODO: want to look through this:\n",
    "#http://www.robots.ox.ac.uk/~az/lectures/ia/lect2.pdf"
   ]
  }
 ],
 "metadata": {
  "kernelspec": {
   "display_name": "Python 3",
   "language": "python",
   "name": "python3"
  },
  "language_info": {
   "codemirror_mode": {
    "name": "ipython",
    "version": 3
   },
   "file_extension": ".py",
   "mimetype": "text/x-python",
   "name": "python",
   "nbconvert_exporter": "python",
   "pygments_lexer": "ipython3",
   "version": "3.6.8"
  }
 },
 "nbformat": 4,
 "nbformat_minor": 2
}
