{
 "cells": [
  {
   "cell_type": "markdown",
   "metadata": {},
   "source": [
    "# Fourier transforms of simple 2D functions\n",
    "\n",
    "So, in our application of optics, we will not be dealing with one dimensional plots but with two dimensional images instead. This means that our function $f$ in direct space is a function of **two** independent spatial variables, $f = f(x, y)$, and the FT of that will also have two independent spatial frequency variables, $F = F(s, r)$.\n",
    "\n",
    "The two-dimensional Fourier transform does exactly the same like the one-dimensional FT, decompose a signal in its sinusoidal components except that we now have to think all across a 2D surface as opposed to a single, 1D line.\n",
    "\n",
    "We have not touched yet any of the important basic theorems, but I though it is really important to get the visualizations for 2D transforms in, especially since this will set us up for jumping into Fourier Optics and from then on work with the optical application on our minds.\n",
    "\n",
    "The analytical definition of the 2D FT is:\n",
    "\n",
    "$$F(s, r) = \\mathscr{F}\\{f(x, y)\\}(s, r) = \\int_{-\\infty}^{\\infty} \\int_{-\\infty}^{\\infty} f(x, y) e^{-i 2 \\pi (x s+yr)} dx dy$$\n",
    "\n",
    "There are many functions $f(x,y)$ that have a well-defined analytical Fourier transform, but I will refrain from showing them here and focus only on the numerical implementation."
   ]
  },
  {
   "cell_type": "code",
   "execution_count": null,
   "metadata": {},
   "outputs": [],
   "source": [
    "import numpy as np\n",
    "import matplotlib.pyplot as plt\n",
    "from mpl_toolkits.mplot3d import Axes3D   # this is for surface plots\n",
    "from matplotlib import cm\n",
    "%matplotlib inline"
   ]
  },
  {
   "cell_type": "markdown",
   "metadata": {},
   "source": [
    "Like for the 1D case, we will define some convenience functions that will perform a 2D Fourier Transform with the respective array shifts needed. And I define some utility functions."
   ]
  },
  {
   "cell_type": "code",
   "execution_count": null,
   "metadata": {},
   "outputs": [],
   "source": [
    "def ft2d(func):\n",
    "    ft = np.fft.fftshift(np.fft.fft2(np.fft.ifftshift(func)))\n",
    "    return ft\n",
    "\n",
    "def ift2d(func):\n",
    "    ift = np.fft.fftshift(np.fft.ifft2(np.fft.ifftshift(func)))\n",
    "    return ift\n",
    "\n",
    "def ft1d_freq(x):\n",
    "    \"\"\"Calculate the (spatial) frequency array based on the spatial array x.\"\"\"\n",
    "    s = np.fft.fftshift(np.fft.fftfreq(x.size, d=x[-1]-x[-2]))\n",
    "    return s\n",
    "\n",
    "def zoom(im, x, y, bb):\n",
    "    \"\"\"Cut out a square box from image im centered on (x,y) with half-box size bb.\"\"\"\n",
    "    return(im[y-bb:y+bb,x-bb:x+bb])\n",
    "\n",
    "def padcplx(c, pad=5):\n",
    "    \"\"\"Puts a Complex array in the centre of a zero-filled Complex array.\n",
    "    pad defines the padding multiplier for the output array.\"\"\"\n",
    "    (nx, ny) = c.shape\n",
    "    bignx = nx * pad + 1\n",
    "    bigny = ny * pad + 1\n",
    "    big_c = np.zeros((bignx, bigny), dtype=complex)\n",
    "    \n",
    "    dx = int((nx * (pad-1)) / 2 + 1)\n",
    "    dy = int((ny * (pad-1)) / 2 + 1)\n",
    "    \n",
    "    big_c[dx:dx+nx,dy:dy+ny] = c\n",
    "    return(big_c)"
   ]
  },
  {
   "cell_type": "markdown",
   "metadata": {},
   "source": [
    "## Setting up the grids\n",
    "\n",
    "We will first generate a grid for the independent variables $x$ and $y$. I chose the grid to have unity size and go from -0.5 to 0.5 so that I only ever have to define the sizes of my functions $f(x,y)$ with respect to the total grid."
   ]
  },
  {
   "cell_type": "code",
   "execution_count": null,
   "metadata": {},
   "outputs": [],
   "source": [
    "# We first need to generate the independent variables,\n",
    "# this time as a 2D grid.\n",
    "npix = 512\n",
    "\n",
    "lin = np.linspace(-0.5, 0.5, npix)\n",
    "xx, yy = np.meshgrid(lin, lin)\n",
    "\n",
    "print(\"Shape of xx: {}\".format(xx.shape))\n",
    "print(\"Shape of yy: {}\".format(yy.shape))\n",
    "print(\"xx[:3,0]: {}\".format(xx[:3,0]))\n",
    "print(\"xx[-3:,0]: {}\".format(xx[-3:,0]))\n",
    "\n",
    "plt.figure(figsize=(10,10))\n",
    "plt.subplot(1, 2, 1)\n",
    "plt.imshow(xx)\n",
    "plt.title('xx')\n",
    "plt.colorbar()\n",
    "plt.subplot(1, 2, 2)\n",
    "plt.imshow(yy)\n",
    "plt.title('yy')\n",
    "plt.colorbar()"
   ]
  },
  {
   "cell_type": "markdown",
   "metadata": {},
   "source": [
    "We will also set up the spatial frequency arrays for the variables $s$ and $r$.  \n",
    "\n",
    "Now, one thing that I don't want to get into in this notebook just yet is the subject of *padding* and *sampling*. I was able to get away with ignoring these things in the 1D cases because I just picked my different $f(x)$ in such a way that we were never undersampled and I never had to tweak the plots much in order to get nice displays. This gets more complicated in the 2D case and while I could still be smart about it in the same way, the plotting will need major adjustments, so I can just as well add the padding now to make my life easier.\n",
    "\n",
    "Again, I will come back to this at a later point, the short version is that we need to shove our $f(x,y)$ images into bigger arrays that pad the function before performing a Fourier transform. This means that the data points we are interested in only take up a small fraction of the arrays we're dealing with, and I will need to either adjust the plot ranges or specifically cut out the data parts that we want to inspect."
   ]
  },
  {
   "cell_type": "code",
   "execution_count": null,
   "metadata": {},
   "outputs": [],
   "source": [
    "pad = 5   # factor by how much do we pad our images before performing a FT\n",
    "\n",
    "npix_pad = npix*pad+1   # figure out the padded big array sizes after the FT\n",
    "xsf = np.linspace(-0.5, 0.5, npix_pad)\n",
    "gf = ft1d_freq(xsf)\n",
    "ss, rr = np.meshgrid(gf, gf)   # create the spatial frequency grids\n",
    "\n",
    "print(\"Shape of ss: {}\".format(ss.shape))\n",
    "print(\"Shape of rr: {}\".format(rr.shape))\n",
    "\n",
    "plt.figure(figsize=(10,10))\n",
    "plt.subplot(1, 2, 1)\n",
    "plt.imshow(xx)\n",
    "plt.title('ss')\n",
    "plt.subplot(1, 2, 2)\n",
    "plt.imshow(yy)\n",
    "plt.title('rr')"
   ]
  },
  {
   "cell_type": "markdown",
   "metadata": {},
   "source": [
    "## A 2D rectangle - a rectangular aperture\n",
    "\n",
    "### Numerical representation of the rectangle function\n",
    "\n",
    "We can represent a rectangular aperture with a 2D function where the function value at each point on the grid is the amplitude of the aperture at that point. In the application of optics, simple shapes like squares, rectangles or circles are usually the functions used to describe pupil apertures, so the amplitude of a function like that is equivalent to the transmission of the aperture. In the simplest case, the aperture function will have non-zero values inside the aperture where it is transmissive to the (optical) signal and zeros outside of it, where we have no signal. Since the two extreme cases here are \"all signal\" vs. \"no signal\", we can represent that with zeros and ones. If we have an aperture that is partially transmissive in some areas, it will contain values between 0 and 1 there. In practical terms, this means that our $A$ will always have values between 0 and 1."
   ]
  },
  {
   "cell_type": "code",
   "execution_count": null,
   "metadata": {},
   "outputs": [],
   "source": [
    "# Define a function for the rectangular aperture.\n",
    "# The expression below returns values of True or\n",
    "# False, so we have to convert that into floats.\n",
    "def rect2d_noshift(size):\n",
    "    \"\"\"Rectangluar aperture. size is a tuple (x,y).\"\"\"\n",
    "    rect = (np.abs(xx) <= (size[0]/2)) * (np.abs(yy) <= (size[1]/2))\n",
    "    return rect.astype('float')"
   ]
  },
  {
   "cell_type": "code",
   "execution_count": null,
   "metadata": {},
   "outputs": [],
   "source": [
    "# Create a rectangular aperture\n",
    "T = (0.4, 0.2)   # x and y size of the rectangular aperture\n",
    "rect_ap = rect2d_noshift(T)\n",
    "\n",
    "# Display the full function\n",
    "fig = plt.figure(figsize=(15,7))\n",
    "ax = fig.add_subplot(111, projection='3d')\n",
    "ax.plot_surface(xx, yy, rect_ap)\n",
    "ax.set_title('$f(x, y)$ - rectangular aperture')\n",
    "ax.set_xlabel('x')\n",
    "ax.set_ylabel('y')"
   ]
  },
  {
   "cell_type": "markdown",
   "metadata": {
    "collapsed": true
   },
   "source": [
    "Oftentimes it will not give us any extra information to display a 2D function like this, but instead the amplitude of the function at each point will be indicated by different colors in an instance of `plt.imshow()`."
   ]
  },
  {
   "cell_type": "code",
   "execution_count": null,
   "metadata": {},
   "outputs": [],
   "source": [
    "# Display the rectangular aperture wtih imshow()\n",
    "plt.figure(figsize=(5, 5))\n",
    "plt.imshow(rect_ap)\n",
    "plt.colorbar()"
   ]
  },
  {
   "cell_type": "markdown",
   "metadata": {
    "collapsed": true
   },
   "source": [
    "We can see how the the transmissive part of this aperture is filled with ones, while the opaque parts around it are filled with zeros.\n",
    "\n",
    "### FT of a rectangular aperture\n",
    "\n",
    "I will show the functions in the following both in a 3D surface plot as well as on a 2D image, just to give a feeling for what's going on. Also, remember that `plt.imshow()` cannot plot complex numbers, and as opposed to `plt.plot()` it will *not* default to plotting the real part, but will raise an error instead. We have to speficy what we want it to show us."
   ]
  },
  {
   "cell_type": "code",
   "execution_count": null,
   "metadata": {},
   "outputs": [],
   "source": [
    "# Calculate the FT\n",
    "rec_ft = ft2d(padcplx(rect_ap))   # we're zero-padding f(x,y) here, see note above\n",
    "\n",
    "# Plot\n",
    "fig = plt.figure(figsize=(15,15))\n",
    "plt.suptitle('$F(s,r)$')\n",
    "\n",
    "ax1 = fig.add_subplot(221, projection='3d')\n",
    "ax1.plot_surface(ss, rr, np.real(rec_ft), cmap=cm.coolwarm)\n",
    "ax1.set_title('Real')\n",
    "ax1.set_xlabel('x')\n",
    "ax1.set_ylabel('y')\n",
    "ax1.view_init(10, -60)\n",
    "ax1.set_zlim3d(-5000,5000)\n",
    "\n",
    "ax2 = fig.add_subplot(222, projection='3d')\n",
    "ax2.plot_surface(ss, rr, np.imag(rec_ft), cmap=cm.coolwarm)\n",
    "ax2.set_title('Imaginary')\n",
    "ax2.set_xlabel('x')\n",
    "ax2.set_ylabel('y')\n",
    "ax2.view_init(30, -60)\n",
    "\n",
    "ax3 = fig.add_subplot(223)\n",
    "im1 = ax3.imshow(np.real(rec_ft))\n",
    "ax3.set_title('Real')\n",
    "fig.colorbar(im1)\n",
    "\n",
    "ax4 = fig.add_subplot(224)\n",
    "im2 = ax4.imshow(np.imag(rec_ft))\n",
    "ax4.set_title('Imaginary')\n",
    "fig.colorbar(im1)"
   ]
  },
  {
   "cell_type": "markdown",
   "metadata": {
    "collapsed": true
   },
   "source": [
    "This might not look like much at first, but everything is ok here. All we have to do is zoom in a little in order to see the parts that are interesting to us (see also my note in the first part of the notebook where I create the grids).  \n",
    "\n",
    "Also, we can see that the imaginary part of this FT is just noise and not interesting to us right now."
   ]
  },
  {
   "cell_type": "code",
   "execution_count": null,
   "metadata": {},
   "outputs": [],
   "source": [
    "# Zoom into the FT of the rectangular aperture\n",
    "zoomfac = 20     # half-size of the zoom box will be 1/zoomfac of total image\n",
    "box = int(npix_pad/zoomfac)\n",
    "\n",
    "# This is a smaller data array wiht our region of interest.\n",
    "rec_ft_zoom = zoom(rec_ft, int(npix_pad/2), int(npix_pad/2), box)\n",
    "\n",
    "# I also have to adjust our s and r grids to match the zoomed data size\n",
    "sz = zoom(ss, int(npix_pad/2), int(npix_pad/2), box)\n",
    "rz = zoom(rr, int(npix_pad/2), int(npix_pad/2), box)\n",
    "\n",
    "# Plot\n",
    "fig = plt.figure(figsize=(20,7))\n",
    "ax1 = fig.add_subplot(121, projection='3d')\n",
    "ax1.plot_surface(sz, rz, np.real(rec_ft_zoom), cmap=cm.coolwarm)\n",
    "ax1.set_title('$F(s,r)$')\n",
    "ax1.set_xlabel('x')\n",
    "ax1.set_ylabel('y')\n",
    "ax1.view_init(10, -60)\n",
    "ax1.set_zlim3d(-5000,20000)\n",
    "\n",
    "ax3 = fig.add_subplot(122)\n",
    "im1 = ax3.imshow(np.real(rec_ft_zoom))\n",
    "ax3.set_title('$F(s,r)$')\n",
    "fig.colorbar(im1)"
   ]
  },
  {
   "cell_type": "markdown",
   "metadata": {
    "collapsed": true
   },
   "source": [
    "Nice! We can see very well in the right hand plot what the FT of a rectangular aperture looks like. Let's move on to different 2D functions $f(x,y)$ that we want to transform.\n",
    "\n",
    "## Circular aperture\n",
    "\n",
    "The circular aperture is a classic one, since the standard case for a telescope is a circular entrance pupil."
   ]
  },
  {
   "cell_type": "code",
   "execution_count": null,
   "metadata": {},
   "outputs": [],
   "source": [
    "# Define a function for a circular aperture\n",
    "def circle_mask(im, xc, yc, rcirc):\n",
    "    \"\"\"Create a circular aperture centered on (xc, yc) with radius rcirc.\"\"\"\n",
    "    x, y = np.shape(im)\n",
    "    newy, newx = np.mgrid[:y,:x]\n",
    "    circ = (newx-xc)**2 + (newy-yc)**2 < rcirc**2\n",
    "    return circ.astype('float')"
   ]
  },
  {
   "cell_type": "code",
   "execution_count": null,
   "metadata": {},
   "outputs": [],
   "source": [
    "# Create a circular aperture\n",
    "rad = 0.7 * npix/2   # radius in pixels of the circular aperture\n",
    "circ_ap = circle_mask(xx, int(npix/2), int(npix/2), rad)\n",
    "\n",
    "# Plot\n",
    "fig = plt.figure(figsize=(15,7))\n",
    "plt.suptitle('$f(x, y)$ - circular aperture')\n",
    "\n",
    "ax1 = fig.add_subplot(121, projection='3d')\n",
    "ax1.plot_surface(xx, yy, circ_ap)\n",
    "ax1.set_xlabel('x')\n",
    "ax1.set_ylabel('y')\n",
    "\n",
    "ax2 = fig.add_subplot(122)\n",
    "im1 = ax2.imshow(circ_ap)\n",
    "#fig.colorbar(im1)"
   ]
  },
  {
   "cell_type": "markdown",
   "metadata": {},
   "source": [
    "### FT of a circular aperture"
   ]
  },
  {
   "cell_type": "code",
   "execution_count": null,
   "metadata": {},
   "outputs": [],
   "source": [
    "# Calculate the FT\n",
    "circ_ft = ft2d(padcplx(circ_ap))"
   ]
  },
  {
   "cell_type": "code",
   "execution_count": null,
   "metadata": {},
   "outputs": [],
   "source": [
    "# Plot\n",
    "zoomfac = 30     # half-size of the zoom box will be 1/zoomfac of total image\n",
    "box = int(npix_pad/zoomfac)\n",
    "\n",
    "# This is a smaller data array wiht our region of interest.\n",
    "circ_ft_zoom = zoom(circ_ft, int(npix_pad/2), int(npix_pad/2), box)\n",
    "\n",
    "# I also have to adjust our s and r grids to match the zoomed data size\n",
    "sz = zoom(ss, int(npix_pad/2), int(npix_pad/2), box)\n",
    "rz = zoom(rr, int(npix_pad/2), int(npix_pad/2), box)\n",
    "\n",
    "# Plot\n",
    "fig = plt.figure(figsize=(20,7))\n",
    "ax1 = fig.add_subplot(121, projection='3d')\n",
    "ax1.plot_surface(sz, rz, np.real(circ_ft_zoom), cmap=cm.coolwarm)\n",
    "ax1.set_title('$F(s,r)$')\n",
    "ax1.set_xlabel('x')\n",
    "ax1.set_ylabel('y')\n",
    "ax1.view_init(10, -60)\n",
    "\n",
    "ax3 = fig.add_subplot(122)\n",
    "im1 = ax3.imshow(np.real(circ_ft_zoom))\n",
    "ax3.set_title('$F(s,r)$')\n",
    "fig.colorbar(im1)"
   ]
  },
  {
   "cell_type": "markdown",
   "metadata": {},
   "source": [
    "### Inverse FT\n",
    "\n",
    "Let's see whether doing the inverse Fourier transform of the Fourier transform yields what we'd expect, like we did in the 1D case."
   ]
  },
  {
   "cell_type": "code",
   "execution_count": null,
   "metadata": {},
   "outputs": [],
   "source": [
    "# Take the inverse FT\n",
    "circ_ft_back = ift2d(circ_ft)"
   ]
  },
  {
   "cell_type": "code",
   "execution_count": null,
   "metadata": {},
   "outputs": [],
   "source": [
    "# Plot\n",
    "circ_ft_back_zoom = zoom(circ_ft_back, int(npix_pad/2), int(npix_pad/2), int(npix/2))\n",
    "\n",
    "fig = plt.figure(figsize=(15,7))\n",
    "plt.suptitle('$f(x, y)$ - circular aperture')\n",
    "\n",
    "ax1 = fig.add_subplot(121, projection='3d')\n",
    "ax1.plot_surface(xx, yy, np.real(circ_ft_back_zoom))\n",
    "ax1.set_xlabel('x')\n",
    "ax1.set_ylabel('y')\n",
    "\n",
    "ax2 = fig.add_subplot(122)\n",
    "ax2.imshow(np.real(circ_ft_back_zoom))"
   ]
  },
  {
   "cell_type": "markdown",
   "metadata": {},
   "source": [
    "Looking pretty good, but how good is it really? Lets subtract the back-transformed aperture from the original one and look at the residuals."
   ]
  },
  {
   "cell_type": "code",
   "execution_count": null,
   "metadata": {},
   "outputs": [],
   "source": [
    "test = circ_ap - circ_ft_back_zoom\n",
    "\n",
    "plt.figure(figsize=(20, 20))\n",
    "plt.imshow(np.real(test))\n",
    "plt.title('Back-transformed residual')\n",
    "plt.colorbar()"
   ]
  },
  {
   "cell_type": "markdown",
   "metadata": {},
   "source": [
    "This is good enough to confirm that the invers FT of the FT gave us the original function $f(x,y)$, but we can also see that there is a small offset in the back-transformed function compared to the original one. We will keep this in mind and come back to it at a later point.\n",
    "\n",
    "## Gaussian"
   ]
  },
  {
   "cell_type": "markdown",
   "metadata": {},
   "source": [
    "A 2D Gaussian is a possibility for creating tapered apertures, among other things. It can almost be viewed as a circular aperture with transmission values changing *gradually* from 0 to 1, with a Gaussian profile, instead of the hard jump from 0 to 1 in the standard circular aperture."
   ]
  },
  {
   "cell_type": "code",
   "execution_count": null,
   "metadata": {},
   "outputs": [],
   "source": [
    "# Define a 2D Gaussian function\n",
    "def gaussian2d(x, y, ampl, c):\n",
    "    #func = ampl * np.exp(-np.square(x) / (2*np.square(c)))\n",
    "    func = ampl * np.exp(-np.pi * (np.square(x) + np.square(y)) / (2 * c/2))\n",
    "    return func"
   ]
  },
  {
   "cell_type": "code",
   "execution_count": null,
   "metadata": {},
   "outputs": [],
   "source": [
    "A = 1\n",
    "T = 1\n",
    "gauss = gaussian2d(xx, yy, A, T)\n",
    "\n",
    "# Plot\n",
    "fig = plt.figure(figsize=(15,7))\n",
    "plt.suptitle('$f(x, y)$ - 2D Gaussian')\n",
    "\n",
    "ax1 = fig.add_subplot(121, projection='3d')\n",
    "ax1.plot_surface(xx, yy, gauss, cmap=cm.coolwarm)\n",
    "ax1.set_xlabel('x')\n",
    "ax1.set_ylabel('y')\n",
    "\n",
    "ax2 = fig.add_subplot(122)\n",
    "im1 = ax2.imshow(gauss)\n",
    "fig.colorbar(im1)"
   ]
  },
  {
   "cell_type": "markdown",
   "metadata": {},
   "source": [
    "### FT of a 2D Gaussian"
   ]
  },
  {
   "cell_type": "code",
   "execution_count": null,
   "metadata": {},
   "outputs": [],
   "source": [
    "# Perform the FT\n",
    "gauss_ft = ft2d(padcplx(gauss))"
   ]
  },
  {
   "cell_type": "code",
   "execution_count": null,
   "metadata": {},
   "outputs": [],
   "source": [
    "# Plot\n",
    "zoomfac = 30     # half-size of the zoom box will be 1/zoomfac of total image\n",
    "box = int(npix_pad/zoomfac)\n",
    "\n",
    "# This is a smaller data array wiht our region of interest.\n",
    "gauss_ft_zoom = zoom(gauss_ft, int(npix_pad/2), int(npix_pad/2), box)\n",
    "\n",
    "# The sz and rz arrays for this already exist.\n",
    "\n",
    "# Plot\n",
    "fig = plt.figure(figsize=(20,7))\n",
    "ax1 = fig.add_subplot(121, projection='3d')\n",
    "ax1.plot_surface(sz, rz, np.real(gauss_ft_zoom), cmap=cm.coolwarm)\n",
    "ax1.set_title('$F(s,r)$')\n",
    "ax1.set_xlabel('x')\n",
    "ax1.set_ylabel('y')\n",
    "ax1.view_init(10, -60)\n",
    "\n",
    "ax3 = fig.add_subplot(122)\n",
    "im1 = ax3.imshow(np.real(gauss_ft_zoom))\n",
    "ax3.set_title('$F(s,r)$')\n",
    "fig.colorbar(im1)"
   ]
  },
  {
   "cell_type": "markdown",
   "metadata": {},
   "source": [
    "## 2D sines and cosines\n",
    "\n",
    "So far, I've been showing Fourier transforms of very simple functions $f(x,y)$. We are by no means restricted to work with binary functions like the rectangular or circular aperture. There's a particular set of functions that are of special intersest, as they have been in the 1D case - sinusoids.  \n",
    "\n",
    "Since we have two dimensions now, we could go ahead and make functions that have a sinusoid extending both ways, on the x- and on the y-axis. To keep things simple though, we will consider 2D sinusoid in only one dimension (but as a 2D function), while we keep the other dimension constant.\n",
    "\n",
    "From notebook 2, we remember that a sinusoidal function can generally be expressed as:\n",
    "\n",
    "$$f(x) = A\\ cos(2\\pi \\nu x - \\phi)$$\n",
    "\n",
    "Extendings this to two dimensions yields\n",
    "\n",
    "$$f(x,y) = A\\ cos(2\\pi \\nu (x+y) - \\phi)$$\n",
    "\n",
    "where $\\nu$ is the frequency of $f(x,y)$: the number of complete oscillations the graph makes in a spatial interval of length 1; that is, the number of cycles per unit length, and $\\phi$ is the phaselag: the value of $\\omega x$ by which the function is shifted along $x$ (or $y$). The variables $x$ and $y$ will be represented by our grids `xx` and `yy`, respectively. Remember that a $sine$ and $cosine$ wave only differ by a phaselag of $\\phi = 90^{\\circ}$."
   ]
  },
  {
   "cell_type": "code",
   "execution_count": null,
   "metadata": {},
   "outputs": [],
   "source": [
    "# Define a 2D sinusoid function\n",
    "def sinusoid2d_norot(x, y, nu, phi, A):\n",
    "    func = A * np.cos(2 * np.pi * nu * (x+y) - phi)\n",
    "    return func"
   ]
  },
  {
   "cell_type": "code",
   "execution_count": null,
   "metadata": {},
   "outputs": [],
   "source": [
    "A = 1\n",
    "phi = 0   # for phi = 0, we're doing a pure cosine\n",
    "nu = 6\n",
    "\n",
    "sinus_norot = sinusoid2d_norot(xx, yy, nu, phi, A)\n",
    "\n",
    "plt.imshow(np.real(sinus_norot))"
   ]
  },
  {
   "cell_type": "markdown",
   "metadata": {},
   "source": [
    "This is looking really nice, but I would like to have this sinusoidal ripple to be along one axis only. I can achieve this by adding an axes rotation to my function, by the angle $\\theta$."
   ]
  },
  {
   "cell_type": "code",
   "execution_count": null,
   "metadata": {},
   "outputs": [],
   "source": [
    "def sinusoid2d(x, y, nu, phi, A, theta=0):\n",
    "    xr = x * np.cos(theta)\n",
    "    yr = y * np.sin(theta)\n",
    "    \n",
    "    func = A * np.cos(2 * np.pi * nu * (xr+yr) - phi)\n",
    "    return func"
   ]
  },
  {
   "cell_type": "code",
   "execution_count": null,
   "metadata": {},
   "outputs": [],
   "source": [
    "A = 1\n",
    "phi = 0   # for phi = 0, we're doing a pure cosine\n",
    "nu = 6\n",
    "\n",
    "sinus = sinusoid2d(xx, yy, nu, phi, A)\n",
    "\n",
    "# Plot\n",
    "fig = plt.figure(figsize=(15,7))\n",
    "plt.suptitle('$f(x, y)$ - 2D sinusoid')\n",
    "\n",
    "ax1 = fig.add_subplot(121, projection='3d')\n",
    "ax1.plot_surface(xx, yy, sinus, cmap=cm.coolwarm)\n",
    "ax1.set_xlabel('x')\n",
    "ax1.set_ylabel('y')\n",
    "\n",
    "ax2 = fig.add_subplot(122)\n",
    "im1 = ax2.imshow(sinus)\n",
    "fig.colorbar(im1)"
   ]
  },
  {
   "cell_type": "markdown",
   "metadata": {},
   "source": [
    "This gives us a beautiful sinusoidal ripple that defaults to being along the x-direction with amplitude $A$. What does the Fourier transform of something like this look like?\n",
    "\n",
    "### FT of a 2D sinusoid"
   ]
  },
  {
   "cell_type": "code",
   "execution_count": null,
   "metadata": {},
   "outputs": [],
   "source": [
    "# Perform the FT\n",
    "sinus_ft = ft2d(padcplx(sinus))"
   ]
  },
  {
   "cell_type": "code",
   "execution_count": null,
   "metadata": {},
   "outputs": [],
   "source": [
    "# Plot\n",
    "zoomfac = 30     # half-size of the zoom box will be 1/zoomfac of total image\n",
    "box = int(npix_pad/zoomfac)\n",
    "\n",
    "# This is a smaller data array wiht our region of interest.\n",
    "sinus_ft_zoom = zoom(sinus_ft, int(npix_pad/2), int(npix_pad/2), box)\n",
    "\n",
    "# The sz and rz arrays for this already exist.\n",
    "\n",
    "# Plot\n",
    "fig = plt.figure(figsize=(20,7))\n",
    "ax1 = fig.add_subplot(121, projection='3d')\n",
    "ax1.plot_surface(sz, rz, np.real(sinus_ft_zoom), cmap=cm.coolwarm)\n",
    "ax1.set_title('$F(s,r)$')\n",
    "ax1.set_xlabel('x')\n",
    "ax1.set_ylabel('y')\n",
    "ax1.view_init(10, -60)\n",
    "\n",
    "ax3 = fig.add_subplot(122)\n",
    "im1 = ax3.imshow(np.real(sinus_ft_zoom))\n",
    "ax3.set_title('$F(s,r)$')\n",
    "fig.colorbar(im1)"
   ]
  },
  {
   "cell_type": "code",
   "execution_count": null,
   "metadata": {},
   "outputs": [],
   "source": []
  },
  {
   "cell_type": "markdown",
   "metadata": {},
   "source": [
    "## Two circles"
   ]
  },
  {
   "cell_type": "markdown",
   "metadata": {},
   "source": [
    "We have gone through the most basic 2D functions, took their FT and displayed them. Going forward, we can make any sort of functions $f(x,y)$ and look at its FT $F(s,r)$.\n",
    "\n",
    "Looking at the FT of a sinusoidal function above, I can see that it yields someting that looks like two dots. Remember how we called a function $f(x,y)$ and its FT $F(s,r)$ a **Fourier pair**. We also know that we can go back and forth between the two members of a Fourier pair by doing a FT and its inverse.\n",
    "\n",
    "So, since the FT of the sinusoidal looks so much like two dots in the Fourier plane, how about we check what happens when we have two dots in real space instead, and then transform *that* into Fourier space? We can do this by creating two off-centered circular apertures and then combining them into one function."
   ]
  },
  {
   "cell_type": "code",
   "execution_count": null,
   "metadata": {},
   "outputs": [],
   "source": [
    "# Make two circular apertures with different offset from center\n",
    "rad_dots = 20\n",
    "circ1 = circle_mask(xx, int(npix/2)-100, int(npix/2), rad_dots)\n",
    "circ2 = circle_mask(xx, int(npix/2)+100, int(npix/2), rad_dots)\n",
    "\n",
    "plt.figure(figsize=(10, 5))\n",
    "plt.subplot(121)\n",
    "plt.imshow(circ1)\n",
    "plt.title('circ1')\n",
    "plt.subplot(122)\n",
    "plt.imshow(circ2)\n",
    "plt.title('circ2')"
   ]
  },
  {
   "cell_type": "code",
   "execution_count": null,
   "metadata": {},
   "outputs": [],
   "source": [
    "# Combine them into one array - this will be our f(x,y)\n",
    "dots = circ1 + circ2\n",
    "\n",
    "# Plot\n",
    "fig = plt.figure(figsize=(15,7))\n",
    "plt.suptitle('$f(x, y)$ - dots')\n",
    "\n",
    "ax1 = fig.add_subplot(121, projection='3d')\n",
    "ax1.plot_surface(xx, yy, dots)\n",
    "ax1.set_xlabel('x')\n",
    "ax1.set_ylabel('y')\n",
    "\n",
    "ax2 = fig.add_subplot(122)\n",
    "im1 = ax2.imshow(dots)"
   ]
  },
  {
   "cell_type": "markdown",
   "metadata": {},
   "source": [
    "### FT of two dots"
   ]
  },
  {
   "cell_type": "code",
   "execution_count": null,
   "metadata": {},
   "outputs": [],
   "source": [
    "# Perform the FT\n",
    "dots_ft = ft2d(padcplx(dots))"
   ]
  },
  {
   "cell_type": "code",
   "execution_count": null,
   "metadata": {},
   "outputs": [],
   "source": [
    "# Plot\n",
    "zoomfac = 30     # half-size of the zoom box will be 1/zoomfac of total image\n",
    "box = int(npix_pad/zoomfac)\n",
    "\n",
    "# This is a smaller data array wiht our region of interest.\n",
    "dots_ft_zoom = zoom(dots_ft, int(npix_pad/2), int(npix_pad/2), box)\n",
    "\n",
    "# The sz and rz arrays for this already exist.\n",
    "\n",
    "# Plot\n",
    "fig = plt.figure(figsize=(20,7))\n",
    "ax1 = fig.add_subplot(121, projection='3d')\n",
    "ax1.plot_surface(sz, rz, np.real(dots_ft_zoom), cmap=cm.coolwarm)\n",
    "ax1.set_title('$F(s,r)$')\n",
    "ax1.set_xlabel('x')\n",
    "ax1.set_ylabel('y')\n",
    "ax1.view_init(10, -60)\n",
    "\n",
    "ax3 = fig.add_subplot(122)\n",
    "im1 = ax3.imshow(np.real(dots_ft_zoom))\n",
    "ax3.set_title('$F(s,r)$')\n",
    "fig.colorbar(im1)"
   ]
  },
  {
   "cell_type": "code",
   "execution_count": null,
   "metadata": {},
   "outputs": [],
   "source": []
  },
  {
   "cell_type": "markdown",
   "metadata": {},
   "source": [
    "## Slits - two rectangles"
   ]
  },
  {
   "cell_type": "markdown",
   "metadata": {},
   "source": [
    "We can do the same thing with the dots but using two rectangle instead, effentively creating two slits for our function $f(x,y)$ that we then transform."
   ]
  },
  {
   "cell_type": "code",
   "execution_count": null,
   "metadata": {},
   "outputs": [],
   "source": [
    "# Define a rectangle function in which you can define the shift of the rectangles\n",
    "def rect2d(x, y, size, shift):\n",
    "    \"\"\"Rectangluar aperture. size and cen are a tuple (x,y).\"\"\"\n",
    "    rect = (np.abs(x-shift[0]) <= (size[0]/2)) * (np.abs(y-shift[1]) <= (size[1]/2))\n",
    "    return rect.astype('float')"
   ]
  },
  {
   "cell_type": "code",
   "execution_count": null,
   "metadata": {},
   "outputs": [],
   "source": [
    "# Create the two slits\n",
    "# size and shift in terms of fraction of total array\n",
    "T = (0.1, 0.3)\n",
    "\n",
    "shift1 = (0.25, 0)\n",
    "slit1 = rect2d(xx, yy, T, shift1)\n",
    "shift2 = (-0.25, 0)\n",
    "slit2 = rect2d(xx, yy, T, shift2)\n",
    "\n",
    "plt.figure(figsize=(10, 5))\n",
    "plt.subplot(121)\n",
    "plt.imshow(slit1)\n",
    "plt.title('slit1')\n",
    "plt.subplot(122)\n",
    "plt.imshow(slit2)\n",
    "plt.title('slit2')"
   ]
  },
  {
   "cell_type": "code",
   "execution_count": null,
   "metadata": {},
   "outputs": [],
   "source": [
    "# Combine them into one array - this will be our f(x,y)\n",
    "slits = slit1 + slit2\n",
    "\n",
    "# Plot\n",
    "fig = plt.figure(figsize=(15,7))\n",
    "plt.suptitle('$f(x, y)$ - slits')\n",
    "\n",
    "ax1 = fig.add_subplot(121, projection='3d')\n",
    "ax1.plot_surface(xx, yy, slits)\n",
    "ax1.set_xlabel('x')\n",
    "ax1.set_ylabel('y')\n",
    "\n",
    "ax2 = fig.add_subplot(122)\n",
    "im1 = ax2.imshow(slits)"
   ]
  },
  {
   "cell_type": "markdown",
   "metadata": {},
   "source": [
    "### FT of slits"
   ]
  },
  {
   "cell_type": "code",
   "execution_count": null,
   "metadata": {},
   "outputs": [],
   "source": [
    "# Perform the FT\n",
    "slits_ft = ft2d(padcplx(slits))"
   ]
  },
  {
   "cell_type": "code",
   "execution_count": null,
   "metadata": {},
   "outputs": [],
   "source": [
    "# Plot\n",
    "zoomfac = 30     # half-size of the zoom box will be 1/zoomfac of total image\n",
    "box = int(npix_pad/zoomfac)\n",
    "\n",
    "# This is a smaller data array wiht our region of interest.\n",
    "slits_ft_zoom = zoom(slits_ft, int(npix_pad/2), int(npix_pad/2), box)\n",
    "\n",
    "# The sz and rz arrays for this already exist.\n",
    "\n",
    "# Plot\n",
    "fig = plt.figure(figsize=(20,7))\n",
    "ax1 = fig.add_subplot(121, projection='3d')\n",
    "ax1.plot_surface(sz, rz, np.real(slits_ft_zoom), cmap=cm.coolwarm)\n",
    "ax1.set_title('$F(s,r)$')\n",
    "ax1.set_xlabel('x')\n",
    "ax1.set_ylabel('y')\n",
    "ax1.view_init(10, -60)\n",
    "\n",
    "ax3 = fig.add_subplot(122)\n",
    "im1 = ax3.imshow(np.real(slits_ft_zoom))\n",
    "ax3.set_title('$F(s,r)$')\n",
    "fig.colorbar(im1)"
   ]
  },
  {
   "cell_type": "markdown",
   "metadata": {},
   "source": [
    "## Ring\n",
    "\n",
    "For the fun of it, I will also do the Fourier transform of a ring - because why not."
   ]
  },
  {
   "cell_type": "code",
   "execution_count": null,
   "metadata": {},
   "outputs": [],
   "source": [
    "# A ring is essentially a big circle minus a smaller circle in the middle\n",
    "rad_out = 0.7 * npix/2   # radius in pixels of the circular aperture\n",
    "rad_in = 0.55 * npix/2\n",
    "circ_out = circle_mask(xx, int(npix/2), int(npix/2), rad_out)\n",
    "circ_in = circle_mask(xx, int(npix/2), int(npix/2), rad_in)\n",
    "\n",
    "plt.figure(figsize=(10, 5))\n",
    "plt.subplot(121)\n",
    "plt.imshow(circ_out)\n",
    "plt.title('circ_out')\n",
    "plt.subplot(122)\n",
    "plt.imshow(circ_in)\n",
    "plt.title('circ_in')"
   ]
  },
  {
   "cell_type": "code",
   "execution_count": null,
   "metadata": {},
   "outputs": [],
   "source": [
    "# Subtract the smaller circle off the bigger one to create ring\n",
    "ring = circ_out - circ_in\n",
    "\n",
    "# Plot\n",
    "fig = plt.figure(figsize=(15,7))\n",
    "plt.suptitle('$f(x, y)$ - ring')\n",
    "\n",
    "ax1 = fig.add_subplot(121, projection='3d')\n",
    "ax1.plot_surface(xx, yy, ring)\n",
    "ax1.set_xlabel('x')\n",
    "ax1.set_ylabel('y')\n",
    "\n",
    "ax2 = fig.add_subplot(122)\n",
    "im1 = ax2.imshow(ring)"
   ]
  },
  {
   "cell_type": "markdown",
   "metadata": {},
   "source": [
    "### FT of a ring"
   ]
  },
  {
   "cell_type": "code",
   "execution_count": null,
   "metadata": {},
   "outputs": [],
   "source": [
    "# Perform the FT\n",
    "ring_ft = ft2d(padcplx(ring))"
   ]
  },
  {
   "cell_type": "code",
   "execution_count": null,
   "metadata": {},
   "outputs": [],
   "source": [
    "# Plot\n",
    "zoomfac = 30     # half-size of the zoom box will be 1/zoomfac of total image\n",
    "box = int(npix_pad/zoomfac)\n",
    "\n",
    "# This is a smaller data array wiht our region of interest.\n",
    "ring_ft_zoom = zoom(ring_ft, int(npix_pad/2), int(npix_pad/2), box)\n",
    "\n",
    "# The ss and rr arrays for this already exist.\n",
    "\n",
    "# Plot\n",
    "fig = plt.figure(figsize=(20,7))\n",
    "ax1 = fig.add_subplot(121, projection='3d')\n",
    "ax1.plot_surface(sz, rz, np.real(ring_ft_zoom), cmap=cm.coolwarm)\n",
    "ax1.set_title('$F(s,r)$')\n",
    "ax1.set_xlabel('x')\n",
    "ax1.set_ylabel('y')\n",
    "ax1.view_init(10, -60)\n",
    "\n",
    "ax3 = fig.add_subplot(122)\n",
    "im1 = ax3.imshow(np.real(ring_ft_zoom))\n",
    "ax3.set_title('$F(s,r)$')\n",
    "fig.colorbar(im1)"
   ]
  },
  {
   "cell_type": "markdown",
   "metadata": {},
   "source": [
    "## Comparing the different FTs"
   ]
  },
  {
   "cell_type": "code",
   "execution_count": null,
   "metadata": {},
   "outputs": [],
   "source": [
    "#TODO: all FT pairs next to each other\n",
    "#TODO: real vs. abs^2"
   ]
  },
  {
   "cell_type": "code",
   "execution_count": null,
   "metadata": {},
   "outputs": [],
   "source": []
  },
  {
   "cell_type": "code",
   "execution_count": null,
   "metadata": {},
   "outputs": [],
   "source": []
  },
  {
   "cell_type": "code",
   "execution_count": null,
   "metadata": {},
   "outputs": [],
   "source": []
  },
  {
   "cell_type": "code",
   "execution_count": null,
   "metadata": {},
   "outputs": [],
   "source": [
    "#TODO: random apertures - hm, maybe better to put this in nb6, since that's where we get optics context:\n",
    "# -> circular with struts and central obscuration, hexagonal, etc, etc, etc, ...\n",
    "\n",
    "#TODO: add radial cuts and compare them to the 1D cases in notebook 3\n",
    "#TODO: all the 3D plots kinda look like shit, I need to improve them"
   ]
  },
  {
   "cell_type": "code",
   "execution_count": null,
   "metadata": {},
   "outputs": [],
   "source": []
  },
  {
   "cell_type": "code",
   "execution_count": null,
   "metadata": {},
   "outputs": [],
   "source": [
    "#TODO: I want to look through this:\n",
    "#http://www.robots.ox.ac.uk/~az/lectures/ia/lect2.pdf"
   ]
  }
 ],
 "metadata": {
  "kernelspec": {
   "display_name": "Python 3",
   "language": "python",
   "name": "python3"
  },
  "language_info": {
   "codemirror_mode": {
    "name": "ipython",
    "version": 3
   },
   "file_extension": ".py",
   "mimetype": "text/x-python",
   "name": "python",
   "nbconvert_exporter": "python",
   "pygments_lexer": "ipython3",
   "version": "3.7.2"
  }
 },
 "nbformat": 4,
 "nbformat_minor": 2
}
