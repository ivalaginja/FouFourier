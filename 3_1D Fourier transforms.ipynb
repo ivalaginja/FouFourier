{
 "cells": [
  {
   "cell_type": "markdown",
   "metadata": {},
   "source": [
    "# Fourier transforms of simple 1D functions\n",
    "\n",
    "Let's have a look now at FTs of simple 1D functions. We will do the same thing for 2D functions later on, and we will also have a look at the numerical properties of the FT at a later time. This notebook is mostly based on Chapter 4 from Bracewell.\n",
    "\n",
    "Both `numpy` and `scipy` come with a Fourier transform module, and I chose arbitrarily to use the functions from `numpy`. Documentation abou the `numpy` fft module can be found here:\n",
    "- https://docs.scipy.org/doc/numpy/reference/routines.fft.html#module-numpy.fft"
   ]
  },
  {
   "cell_type": "code",
   "execution_count": null,
   "metadata": {},
   "outputs": [],
   "source": [
    "import numpy as np\n",
    "import matplotlib.pyplot as plt\n",
    "from scipy import signal\n",
    "%matplotlib inline"
   ]
  },
  {
   "cell_type": "markdown",
   "metadata": {},
   "source": [
    "The FT is given in `numpy` by `np.fft.fft` (`np.fft.fft2` for 2D functions) and the inverse FT is given by `np.fft.ifft`. The extra \"F\" in FFT stands for \"fast Fourier transform\", this is a way of doing the Fourier transform numerically, which we will have a look at later.\n",
    "\n",
    "Two more functions that we will need are `np.fft.fftshift` and `np.fft.ifftshift`. Those perform a shift to get the zero-frequency of our FT or inverse FT back into our image center. How and why will also be explored somewhat later, I just first want to show what some FTs look like generally.\n",
    "\n",
    "And lastly, when we move to frequency space with variable $s$ after we do a FT, we need a new array that holds this independent variable $s$. How that comes to be will also be explained a little later, but I will need that for the display of the FTs, so I also define a helper function for that. Numpy has a function for this, `np.fft.fftfreq`, which also needs to make use of the shifting.\n",
    "\n",
    "Because those shifts are important but take a lot of space when writing code, I will define my own 1D Fourier transforms in two functions, one for the FT and one for the inverse FT."
   ]
  },
  {
   "cell_type": "code",
   "execution_count": null,
   "metadata": {},
   "outputs": [],
   "source": [
    "def ft1d(func):\n",
    "    ft = np.fft.fftshift(np.fft.fft(np.fft.ifftshift(func)))\n",
    "    return ft\n",
    "\n",
    "def ift1d(func):\n",
    "    ift = np.fft.fftshift(np.fft.ifft(np.fft.ifftshift(func)))\n",
    "    return ift\n",
    "\n",
    "def ft1d_freq(x):\n",
    "    s = np.fft.fftshift(np.fft.fftfreq(x.size, d=x[-1]-x[-2]))\n",
    "    return s"
   ]
  },
  {
   "cell_type": "code",
   "execution_count": null,
   "metadata": {},
   "outputs": [],
   "source": [
    "# We first need to generate the independent variable\n",
    "x = np.linspace(-10, 10, 1000)\n",
    "print(\"Shape of x: {}\".format(x.shape))"
   ]
  },
  {
   "cell_type": "markdown",
   "metadata": {},
   "source": [
    "## The rectangle function\n",
    "\n",
    "The box function is defined as \n",
    "\n",
    "\\begin{equation*}\n",
    "    \\Pi(x) = \\begin{cases}\n",
    "               0 & \\text{if } |x| > \\frac{T}{2},\\\\\n",
    "               (\\frac{A}{2} & \\text{if } |x| = 0),\\\\\n",
    "               A & \\text{if } |x| < \\frac{T}{2}.\n",
    "          \\end{cases}\n",
    "\\end{equation*}\n",
    "\n",
    "where $A$ is it's amplitude and $T$ is the interval it spans.\n",
    "\n",
    "### Numerical representation of the rectangle function\n",
    "\n",
    "#### The easy way\n",
    "The easy way to create a numerical represenation of this funciton would be to have a constant funcion of amplitude $A$ and simply set the area outside of $T$ to zero:"
   ]
  },
  {
   "cell_type": "code",
   "execution_count": null,
   "metadata": {},
   "outputs": [],
   "source": [
    "A = 3\n",
    "T = 5\n",
    "\n",
    "func0 = A * np.ones_like(x)\n",
    "\n",
    "leftzero = np.where(x < -T/2)\n",
    "rightzero = np.where(x > T/2)\n",
    "func0[leftzero] = 0\n",
    "func0[rightzero] = 0\n",
    "\n",
    "plt.figure(figsize=(10, 5))\n",
    "plt.axhline(0, color='grey', linewidth='0.5')\n",
    "plt.axvline(0, color='grey', linewidth='0.5')\n",
    "plt.xlabel(\"x\")\n",
    "plt.ylabel(\"f(x)\")\n",
    "\n",
    "plt.plot(x, func0)\n",
    "plt.title(\"Rectangle function $\\Pi(x)$\")"
   ]
  },
  {
   "cell_type": "markdown",
   "metadata": {},
   "source": [
    "We can dump this in a function for later use."
   ]
  },
  {
   "cell_type": "code",
   "execution_count": null,
   "metadata": {},
   "outputs": [],
   "source": [
    "def rect(x, ampl, tint):\n",
    "    \"\"\"Rectangle function with amplitude ample and an interval tint from -tint/2 to tint/2.\"\"\"\n",
    "    \n",
    "    if tint/2 >= np.max(x):\n",
    "        raise(\"Your interval is larger than the provided x array.\")\n",
    "        \n",
    "    func = A * np.ones_like(x)\n",
    "    leftzero = np.where(x < -tint/2)\n",
    "    rightzero = np.where(x > tint/2)\n",
    "    func[leftzero] = 0\n",
    "    func[rightzero] = 0\n",
    "    \n",
    "    return func"
   ]
  },
  {
   "cell_type": "code",
   "execution_count": null,
   "metadata": {},
   "outputs": [],
   "source": [
    "# Make sure the function works\n",
    "rect_func = rect(x, A, T)\n",
    "\n",
    "plt.figure(figsize=(10, 5))\n",
    "plt.axhline(0, color='grey', linewidth='0.5')\n",
    "plt.axvline(0, color='grey', linewidth='0.5')\n",
    "plt.xlabel(\"x\")\n",
    "plt.ylabel(\"f(x)\")\n",
    "\n",
    "plt.plot(x, rect_func)\n",
    "plt.title(\"Rectangle function $\\Pi(x)$\")\n",
    "plt.xlim(-T/2-1, T/2+1)"
   ]
  },
  {
   "cell_type": "markdown",
   "metadata": {},
   "source": [
    "#### The tedious way\n",
    "\n",
    "I found that `scipy` has a periodic square function though, so I thought it would be good practice for what we learned in notebook 2 to construct the rectangle function from `scipy.signal.squaresquare()`. We will have to fiddle around with it a little bit, since this function is periodic but we only want the rectangle function part of it (non-periodic).\n",
    "\n",
    "In this function, we can define an amplitude`a_per` and period value `pt` in radians (per $2\\pi$). Note how the square function extends from `-a_per` to `a_per`"
   ]
  },
  {
   "cell_type": "code",
   "execution_count": null,
   "metadata": {},
   "outputs": [],
   "source": [
    "a_per = 2\n",
    "pt = 2\n",
    "\n",
    "func1 = a_per * signal.square(pt*x)\n",
    "\n",
    "plt.figure(figsize=(10, 5))\n",
    "plt.axhline(0, color='grey', linewidth='0.5')\n",
    "plt.axvline(0, color='grey', linewidth='0.5')\n",
    "plt.xlabel(\"x\")\n",
    "plt.ylabel(\"f(x)\")\n",
    "\n",
    "plt.plot(x, func1)"
   ]
  },
  {
   "cell_type": "markdown",
   "metadata": {},
   "source": [
    "We can see that its period in linear units is `pt` by $2\\pi$\n",
    "$$P = pt / 2\\pi$$"
   ]
  },
  {
   "cell_type": "code",
   "execution_count": null,
   "metadata": {},
   "outputs": [],
   "source": [
    "plt.figure(figsize=(10, 5))\n",
    "plt.axhline(0, color='grey', linewidth='0.5')\n",
    "plt.axvline(0, color='grey', linewidth='0.5')\n",
    "plt.xlabel(\"x\")\n",
    "plt.ylabel(\"f(x)\")\n",
    "\n",
    "plt.plot(x, func1)\n",
    "\n",
    "# point out period pt\n",
    "plt.axvline(pt/2*np.pi, linestyle=\"-.\", linewidth=\"0.9\", c='k')\n",
    "plt.fill_betweenx([-a_per,a_per], 0, pt/2*np.pi, color=\"y\", alpha=0.2)\n",
    "plt.annotate('period P', xy=(pt/2*np.pi, 2*(a_per/5)), xytext=(7.5, 0.15), size=15,\n",
    "            arrowprops=dict(facecolor='black', edgecolor='black', width=0.7, shrink=0.05),)"
   ]
  },
  {
   "cell_type": "markdown",
   "metadata": {},
   "source": [
    "First, we'll want to shift the function such that we have the middle box centered on zero. As we have seen in notebook 2, we can do that by introducing a phase lag. And how large does the phase lag have to be? Knowing that our period is $2\\pi$, shifting it by $2\\pi$ would give us exactly the same answer. If we shift it by half that, $\\pi$, we would put the other edge of the box on the origin. So, we want to shift it by only half that, which is $\\pi /2$, so that we get our middle box centered on the origin. If we use a minuts, we shift it to the right and if we use a plus, we shift it to the left, which is what we need."
   ]
  },
  {
   "cell_type": "code",
   "execution_count": null,
   "metadata": {},
   "outputs": [],
   "source": [
    "func2 = a_per * signal.square(pt*x + np.pi/2)\n",
    "\n",
    "plt.figure(figsize=(10, 5))\n",
    "plt.axhline(0, color='grey', linewidth='0.5')\n",
    "plt.axvline(0, color='grey', linewidth='0.5')\n",
    "plt.xlabel(\"x\")\n",
    "plt.ylabel(\"f(x)\")\n",
    "\n",
    "plt.plot(x, func2)\n",
    "\n",
    "# point out period pt\n",
    "plt.axvline(pt/2*np.pi, linestyle=\"-.\", linewidth=\"0.9\", c='k')\n",
    "plt.fill_betweenx([-a_per,a_per], 0, pt/2*np.pi, color=\"y\", alpha=0.2)\n",
    "plt.annotate('period P', xy=(pt/2*np.pi, 2*(a_per/5)), xytext=(7.5, 0.15), size=15,\n",
    "            arrowprops=dict(facecolor='black', edgecolor='black', width=0.7, shrink=0.05),)"
   ]
  },
  {
   "cell_type": "markdown",
   "metadata": {},
   "source": [
    "Second, we want to shift the entire function up so that we have no negative values, since we defined the rectangle function between an amplitude A and 0. Shifting it up by `a_per/2` means though that its amplitude gets twice as high, so we will define its \"real\" amplitude as `A = a_per / 2` and we also have to scale the square function by halt the real amplitude to make this work."
   ]
  },
  {
   "cell_type": "code",
   "execution_count": null,
   "metadata": {},
   "outputs": [],
   "source": [
    "A = a_per / 2\n",
    "print(\"A = {}\".format(A))\n",
    "func3 = A/2 * signal.square(pt*x + np.pi/2) + A/2\n",
    "\n",
    "plt.figure(figsize=(10, 5))\n",
    "plt.axhline(0, color='grey', linewidth='0.5')\n",
    "plt.axvline(0, color='grey', linewidth='0.5')\n",
    "plt.xlabel(\"x\")\n",
    "plt.ylabel(\"f(x)\")\n",
    "\n",
    "plt.plot(x, func3)\n",
    "\n",
    "# point out period pt\n",
    "plt.axvline(pt/2*np.pi, linestyle=\"-.\", linewidth=\"0.9\", c='k')\n",
    "plt.fill_betweenx([0,A], 0, pt/2*np.pi, color=\"y\", alpha=0.2)\n",
    "plt.annotate('period P', xy=(pt/2*np.pi, 2*(A/5)), xytext=(7.5, 0.15), size=15,\n",
    "            arrowprops=dict(facecolor='black', edgecolor='black', width=0.7, shrink=0.05),)"
   ]
  },
  {
   "cell_type": "markdown",
   "metadata": {},
   "source": [
    "Next, we'll want to chop off a) all the boxes but the middle one and b) the negative parts, so that we actually get a function between its maximum and 0 that is non-periodic."
   ]
  },
  {
   "cell_type": "code",
   "execution_count": null,
   "metadata": {},
   "outputs": [],
   "source": [
    "indl = np.where(x < -(np.pi/pt))    # nulling left side\n",
    "func3[indl] = 0\n",
    "indr = np.where(x > (np.pi/pt))     # nulling right side\n",
    "func3[indr] = 0\n",
    "\n",
    "plt.figure(figsize=(10, 5))\n",
    "plt.axhline(0, color='grey', linewidth='0.5')\n",
    "plt.axvline(0, color='grey', linewidth='0.5')\n",
    "plt.xlabel(\"x\")\n",
    "plt.ylabel(\"f(x)\")\n",
    "\n",
    "plt.plot(x, func3)"
   ]
  },
  {
   "cell_type": "markdown",
   "metadata": {},
   "source": [
    "Lastly, we want to be able to control the width $T$ of our rectangle function. If we look at the last plot in which we still showed the periodic square function and the shaded period, we can see that a full period holds four half-sizes of our rectangle, meaning $\\frac{T}{2} = \\frac{P}{4}$. Since $P = pt / 2\\pi$, we can say:\n",
    "\n",
    "$$\\frac{T}{2} = \\frac{2 \\pi}{4 \\cdot pt}$$\n",
    "\n",
    "And since we want to be able to set our interval $T$ directly but need `pt` for the definition of the function, we will use:\n",
    "\n",
    "$$pt = \\frac{2 \\pi 2}{4 T} = \\frac{\\pi}{T}$$"
   ]
  },
  {
   "cell_type": "code",
   "execution_count": null,
   "metadata": {},
   "outputs": [],
   "source": [
    "T = 2\n",
    "pt = np.pi / T\n",
    "\n",
    "# Define the rectangle function with A and T\n",
    "func4 = A/2 * signal.square(pt*x + np.pi/2)\n",
    "\n",
    "# Shift it up\n",
    "func4 = func4 + A/2\n",
    "\n",
    "# Extract the middle box only\n",
    "indl = np.where(x < -T)    # nulling left side\n",
    "func4[indl] = 0\n",
    "indr = np.where(x > T)     # nulling right side\n",
    "func4[indr] = 0\n",
    "\n",
    "plt.figure(figsize=(10, 5))\n",
    "plt.axhline(0, color='grey', linewidth='0.5')\n",
    "plt.axvline(0, color='grey', linewidth='0.5')\n",
    "plt.xlabel(\"x\")\n",
    "plt.ylabel(\"f(x)\")\n",
    "\n",
    "plt.plot(x, func4)\n",
    "plt.xlim(-T-1, T+1)\n",
    "#TODO: add ticks for -T/2 and T/2\n",
    "\n",
    "# Check that the first positive zero of the rectangle function is indeed at T/2\n",
    "sel = np.where(func4[int(len(x)/2):]<0.0001)\n",
    "print(\"First zero: {}\".format(x[int(len(x)/2):][sel][0]))\n",
    "print(\"T/2: {}\".format(T/2))"
   ]
  },
  {
   "cell_type": "markdown",
   "metadata": {},
   "source": [
    "#### Let's set our rectangle function up then"
   ]
  },
  {
   "cell_type": "code",
   "execution_count": null,
   "metadata": {},
   "outputs": [],
   "source": [
    "A = 1\n",
    "T = 1\n",
    "\n",
    "pt = np.pi / T\n",
    "rec = A/2 * signal.square(pt*x + np.pi/2)    # we use A/2 because we shift the function upwards to be between A and 0\n",
    "                                           # the + np.pi/2 makes it be centered on 0\n",
    "\n",
    "# shift it so that we only have positive value A and zero, not \n",
    "rec = rec + A/2\n",
    "# We want to keep only the central box, not the periodic function\n",
    "indl = np.where(x < -T)    # nulling left side\n",
    "rec[indl] = 0\n",
    "indr = np.where(x > T)     # nulling right side\n",
    "rec[indr] = 0\n",
    "\n",
    "plt.figure(figsize=(10, 5))\n",
    "plt.axhline(0, color='grey', linewidth='0.5')\n",
    "plt.axvline(0, color='grey', linewidth='0.5')\n",
    "plt.xlabel(\"x\")\n",
    "plt.ylabel(\"f(x)\")\n",
    "\n",
    "plt.plot(x, rec)\n",
    "plt.title(\"Rectangle function $\\Pi(x)$\")\n",
    "#TODO: add ticks for -T/2 and T/2\n",
    "plt.xlim(-1, 1)"
   ]
  },
  {
   "cell_type": "markdown",
   "metadata": {},
   "source": [
    "### FT of the rectangle function\n",
    "\n",
    "It's FT can easily be found analytically (this is taken from http://www.thefouriertransform.com/transform/fourier.php):\n",
    "\n",
    "\\begin{align*}\n",
    "    f(x) &= \\Pi(x) \\\\\n",
    "    \\mathscr{F}\\{f(x)\\} = F(s) &= \\int_{-\\infty}^{\\infty} f(x) e^{-i 2 \\pi x s} dx = \\\\\n",
    "    &= \\int_{-T/2}^{T/2} A(x) e^{-i 2 \\pi x s} dx = \\frac{A}{-2 \\pi i x} \\left[e^{-i 2 \\pi x s} \\right]^{T/2}_{-T/2} = \\\\\n",
    "    &= \\frac{A}{-2 \\pi i x} \\left[e^{-i \\pi T s} - e^{i \\pi T s} \\right] = \\frac{A T}{\\pi s T} \\left[\\frac{e^{i \\pi T s} - e^{-i \\pi T s}}{2i} \\right] = \\\\\n",
    "    &= \\frac{A T}{\\pi s T} sin(\\pi s T) = A T \\frac{sin(\\pi s T)}{\\pi s T} = \\\\\n",
    "    \\mathscr{F}\\{\\Pi(x)\\} &= A T \\left[sinc(sT)\\right]\n",
    "\\end{align*}\n",
    "\n",
    "Which is a **sinc** function that is scaled by the amplitude and interval of $f(x)$! We can confirm this with a numerical FT:"
   ]
  },
  {
   "cell_type": "code",
   "execution_count": null,
   "metadata": {},
   "outputs": [],
   "source": [
    "# Calculate the FT\n",
    "rec_ft = ft1d(rec)\n",
    "\n",
    "# Calculate the frequency array\n",
    "s = ft1d_freq(x)\n",
    "\n",
    "plt.figure(figsize=(10, 5))\n",
    "plt.axhline(0, color='grey', linewidth='0.5')\n",
    "plt.axvline(0, color='grey', linewidth='0.5')\n",
    "plt.xlabel(\"s\")\n",
    "plt.ylabel(\"F(s)\")\n",
    "\n",
    "plt.plot(s, rec_ft)\n",
    "plt.title(\"$\\mathscr{F}\\{\\Pi(x)\\}$\")\n",
    "\n",
    "#TODO: frequency ticks on x-axis (1/T and so on)\n",
    "#TODO: explain amplitude scaling"
   ]
  },
  {
   "cell_type": "markdown",
   "metadata": {},
   "source": [
    "Aaaaaand we did our first Fourier transform! If you remmeber from notebook number 1, we said that $f(x)$ and $F(s)$ form a Fourier transform pair and this means that we can Fourier transform back and forth between the two.\n",
    "\n",
    "We will see that it matters if we take the FT or the inverse FT."
   ]
  },
  {
   "cell_type": "code",
   "execution_count": null,
   "metadata": {},
   "outputs": [],
   "source": [
    "# Take the iFT of the FT\n",
    "ft_back = ft1d(rec_ft)\n",
    "\n",
    "# Take the FT of the FT\n",
    "ift_back = ift1d(rec_ft)\n",
    "\n",
    "# Plot\n",
    "plt.figure(figsize=(15, 8))\n",
    "\n",
    "plt.subplot(1, 2, 1)\n",
    "plt.axhline(0, color='grey', linewidth='0.5')\n",
    "plt.axvline(0, color='grey', linewidth='0.5')\n",
    "plt.xlabel(\"x\")\n",
    "plt.ylabel(\"f(x)\")\n",
    "\n",
    "plt.plot(s, ft_back)\n",
    "plt.title(\"FT of the FT\")\n",
    "\n",
    "plt.subplot(1, 2, 2)\n",
    "plt.axhline(0, color='grey', linewidth='0.5')\n",
    "plt.axvline(0, color='grey', linewidth='0.5')\n",
    "plt.xlabel(\"x\")\n",
    "plt.ylabel(\"f(x)\")\n",
    "\n",
    "plt.plot(s, ift_back)\n",
    "plt.title(\"iFT of the FT\")"
   ]
  },
  {
   "cell_type": "markdown",
   "metadata": {},
   "source": [
    "As you can see, if we take the FT of the FT, then the overall shape of $f(x)$ gets recovered, but its scaling (normalization) is way, way off. By taking the inverse Fourier transform instead, this is taken care of properly.\n",
    "\n",
    "Note how the normalization of the FT is very important in general; we will cover this, like many other things, at a later point. One thing I do want to stress though is that if we have a setup in which we take a FT and then an iFT and only then we deal with our data, we don't really care about *how* the normalization happens, as going both ways will come back to the initial function. The only thing that is important here is that you use the FT and iFT from the same framework (here: same module, e.g. `numpy.fft`) so that this works out properly. If you work directly with the FT though (or the iFT), without having gone both way with the transformation, it is important that you take care of the normalization properly.\n",
    "\n",
    "The documentation on numpy's fft module explains that the direct ransform is unscaled and the inverse transform is scaled by $1/n$, where n is the number of discrete points in the function. There is a keyword though that can change that to a normalization of $1/\\sqrt{n}$ both ways.\n",
    "\n",
    "\n",
    "\n",
    "(https://docs.scipy.org/doc/numpy/reference/routines.fft.html#normalization)\n",
    "\n",
    "And for the sake of completeness, here are $f(x)$ and $\\mathscr{F}^{-1}\\{F(s)\\}$ next to each other:"
   ]
  },
  {
   "cell_type": "code",
   "execution_count": null,
   "metadata": {},
   "outputs": [],
   "source": [
    "plt.figure(figsize=(15, 5))\n",
    "\n",
    "plt.subplot(1, 2, 1)\n",
    "plt.axhline(0, color='grey', linewidth='0.5')\n",
    "plt.axvline(0, color='grey', linewidth='0.5')\n",
    "plt.xlabel(\"x\")\n",
    "plt.ylabel(\"f(x)\")\n",
    "\n",
    "plt.plot(x, rec)\n",
    "plt.title(\"Rectangle function $\\Pi(x)$\")\n",
    "#TODO: add ticks for -T/2 and T/2\n",
    "plt.xlim(-1, 1)\n",
    "\n",
    "plt.subplot(1, 2, 2)\n",
    "plt.axhline(0, color='grey', linewidth='0.5')\n",
    "plt.axvline(0, color='grey', linewidth='0.5')\n",
    "plt.xlabel(\"x\")\n",
    "plt.ylabel(\"f(x)\")\n",
    "\n",
    "plt.plot(x, ift_back)\n",
    "plt.title(\"iFT of the FT of $\\Pi(x)$\")\n",
    "#TODO: add ticks for -T/2 and T/2\n",
    "plt.xlim(-1, 1)"
   ]
  },
  {
   "cell_type": "markdown",
   "metadata": {},
   "source": [
    "## The triangle function\n",
    "\n",
    "The triangle funciton is by definition\n",
    "\n",
    "\\begin{equation*}\n",
    "    \\Lambda(x) = \\begin{cases}\n",
    "               0 & \\text{if } |x| > \\frac{T}{2},\\\\\n",
    "               A-|x| & \\text{if } |x| < \\frac{T}{2}.\n",
    "          \\end{cases}\n",
    "\\end{equation*}"
   ]
  },
  {
   "cell_type": "markdown",
   "metadata": {},
   "source": [
    "#### Numerical representation\n",
    "\n",
    "We'll have to go through a similar ordeal like for the rectangle function, but this time with `scipy`'s `signal.sawtooth()` function."
   ]
  },
  {
   "cell_type": "code",
   "execution_count": null,
   "metadata": {},
   "outputs": [],
   "source": [
    "# Define amplitude and interval\n",
    "A = 1\n",
    "T = 1\n",
    "\n",
    "# Define function\n",
    "pt = np.pi / T\n",
    "tri = A/2 * signal.sawtooth(pt*x + np.pi, width=0.5) + A/2    # width=0.5 makes it simmetrycal\n",
    "\n",
    "# Discard all but the central triangle\n",
    "indl = np.where(x < -T)    # nulling left side\n",
    "tri[indl] = 0\n",
    "indr = np.where(x > T)     # nulling right side\n",
    "tri[indr] = 0\n",
    "\n",
    "# Plot\n",
    "plt.figure(figsize=(15, 5))\n",
    "plt.axhline(0, color='grey', linewidth='0.5')\n",
    "plt.axvline(0, color='grey', linewidth='0.5')\n",
    "plt.xlabel(\"x\")\n",
    "plt.ylabel(\"f(x)\")\n",
    "\n",
    "plt.plot(x, tri)\n",
    "plt.title(\"$\\Lambda(x)$\")\n",
    "plt.xlim(-2, 2)"
   ]
  },
  {
   "cell_type": "code",
   "execution_count": null,
   "metadata": {},
   "outputs": [],
   "source": [
    "# Make a function of it for easier use later\n",
    "def triangle(x, ampl, tint):\n",
    "    \"\"\"Create the triangle function with amplitude ampl on interval tint from -tint/2 to tint/2.\"\"\"\n",
    "    pt = np.pi / tint\n",
    "    tri = ampl/2 * signal.sawtooth(pt*x + np.pi, width=0.5) + ampl/2\n",
    "\n",
    "    # Discard all but the central triangle\n",
    "    indl = np.where(x < -tint)    # nulling left side\n",
    "    tri[indl] = 0\n",
    "    indr = np.where(x > tint)     # nulling right side\n",
    "    tri[indr] = 0\n",
    "    \n",
    "    return tri"
   ]
  },
  {
   "cell_type": "code",
   "execution_count": null,
   "metadata": {},
   "outputs": [],
   "source": [
    "# Test the function\n",
    "tri_func = triangle(x, 2.3, 2.7)\n",
    "\n",
    "plt.plot(x, tri_func)"
   ]
  },
  {
   "cell_type": "markdown",
   "metadata": {},
   "source": [
    "### FT of the trianlge function\n",
    "\n",
    "The analytical FT of the triangle function can be found here:\n",
    "\n",
    "http://www.thefouriertransform.com/pairs/triangle.php\n",
    "\n",
    "The result is a **squared sinc** function, which is also what we get when we perform a numerical FT:"
   ]
  },
  {
   "cell_type": "code",
   "execution_count": null,
   "metadata": {},
   "outputs": [],
   "source": [
    "# Calculate the FT\n",
    "tri_ft = ft1d(tri)\n",
    "\n",
    "# Calculate the frequency array\n",
    "s = ft1d_freq(x)\n",
    "\n",
    "plt.figure(figsize=(10, 5))\n",
    "plt.axhline(0, color='grey', linewidth='0.5')\n",
    "plt.axvline(0, color='grey', linewidth='0.5')\n",
    "plt.xlabel(\"s\")\n",
    "plt.ylabel(\"F(s)\")\n",
    "\n",
    "plt.plot(s, tri_ft)\n",
    "plt.title(\"$\\mathscr{F}\\{\\Lambda(x)\\}$\")\n",
    "plt.xlim(-4, 4)"
   ]
  },
  {
   "cell_type": "markdown",
   "metadata": {},
   "source": [
    "## The Gaussian\n",
    "\n",
    "We define a Gaussian function:"
   ]
  },
  {
   "cell_type": "code",
   "execution_count": null,
   "metadata": {},
   "outputs": [],
   "source": [
    "def gaussian(x, ampl, c):\n",
    "    #func = ampl * np.exp(-np.square(x) / (2*np.square(c)))\n",
    "    func = ampl * np.exp(-np.pi * np.square(x) / (2 * c/2))\n",
    "    return func"
   ]
  },
  {
   "cell_type": "code",
   "execution_count": null,
   "metadata": {},
   "outputs": [],
   "source": [
    "A = 1\n",
    "T = 1\n",
    "gauss = gaussian(x, A, T)\n",
    "\n",
    "plt.figure(figsize=(10, 5))\n",
    "plt.axhline(0, color='grey', linewidth='0.5')\n",
    "plt.axvline(0, color='grey', linewidth='0.5')\n",
    "plt.xlabel(\"x\")\n",
    "plt.ylabel(\"f(x)\")\n",
    "\n",
    "plt.plot(x, gauss)\n",
    "plt.title(\"gauss(x)\")\n",
    "plt.xlim(-3, 3)\n",
    "\n",
    "# Display lines for FWHM and T\n",
    "plt.axhline(A/2, ls=\"-.\", c=\"k\", linewidth=\"0.5\")\n",
    "plt.axvline(-T/2, ls=\"-.\", c=\"k\", linewidth=\"0.5\")\n",
    "plt.axvline(T/2, ls=\"-.\", c=\"k\", linewidth=\"0.5\")\n",
    "#TODO: add ticks for -T/2 and T/2"
   ]
  },
  {
   "cell_type": "markdown",
   "metadata": {},
   "source": [
    "### FT of a Gaussian"
   ]
  },
  {
   "cell_type": "code",
   "execution_count": null,
   "metadata": {},
   "outputs": [],
   "source": [
    "# Calculate the FT\n",
    "gauss_ft = ft1d(gauss)\n",
    "\n",
    "# Calculate the frequency array\n",
    "s = ft1d_freq(x)\n",
    "\n",
    "plt.figure(figsize=(10, 5))\n",
    "plt.axhline(0, color='grey', linewidth='0.5')\n",
    "plt.axvline(0, color='grey', linewidth='0.5')\n",
    "plt.xlabel(\"s\")\n",
    "plt.ylabel(\"F(s)\")\n",
    "\n",
    "plt.plot(s, gauss_ft)\n",
    "plt.title(\"$\\mathscr{F}\\{gauss(x)\\}$\")\n",
    "plt.xlim(-3, 3)"
   ]
  },
  {
   "cell_type": "markdown",
   "metadata": {},
   "source": [
    "We can see that the FT of a Gaussian is itself a Gaussian!"
   ]
  },
  {
   "cell_type": "markdown",
   "metadata": {},
   "source": [
    "## The sine and cosine function\n",
    "\n",
    "Let's take our sine and cosine definitions from notebook 2:\n",
    "\n",
    "$$c_1(x) = A cos(2\\pi \\nu x - \\phi)$$\n",
    "$$s_1(x) = A sin(2\\pi \\nu x - \\phi)$$"
   ]
  },
  {
   "cell_type": "code",
   "execution_count": null,
   "metadata": {},
   "outputs": [],
   "source": [
    "A = 1\n",
    "phi = 0\n",
    "nu = 1 / (2*np.pi)\n",
    "P = 1/nu\n",
    "\n",
    "c1 = A * np.cos(2*np.pi * nu * x - phi) \n",
    "s1 = A * np.sin(2*np.pi * nu * x - phi) \n",
    "\n",
    "plt.figure(figsize=(10, 5))\n",
    "plt.axhline(0, color='grey', linewidth='0.5')\n",
    "plt.axvline(0, color='grey', linewidth='0.5')\n",
    "plt.xlabel(\"x\")\n",
    "plt.ylabel(\"f(x)\")\n",
    "\n",
    "plt.plot(x, c1, label=\"cosine\")\n",
    "plt.plot(x, s1, label=\"sine\")\n",
    "plt.legend()"
   ]
  },
  {
   "cell_type": "markdown",
   "metadata": {},
   "source": [
    "What do their Fourier transforms look like?"
   ]
  },
  {
   "cell_type": "code",
   "execution_count": null,
   "metadata": {},
   "outputs": [],
   "source": [
    "# Calculate the FT\n",
    "c1_ft = ft1d(c1)\n",
    "s1_ft = ft1d(s1)\n",
    "\n",
    "# Calculate the frequency array\n",
    "s = ft1d_freq(x)\n",
    "\n",
    "plt.figure(figsize=(10, 5))\n",
    "plt.axhline(0, color='grey', linewidth='0.5')\n",
    "plt.axvline(0, color='grey', linewidth='0.5')\n",
    "plt.xlabel(\"s\")\n",
    "plt.ylabel(\"F(s)\")\n",
    "\n",
    "plt.plot(s, c1_ft)\n",
    "plt.plot(s, s1_ft)\n",
    "plt.xlim(-1, 1)"
   ]
  },
  {
   "cell_type": "markdown",
   "metadata": {},
   "source": [
    "Well..., that looks kinda wonky, doesn't it? Something is off here.\n",
    "\n",
    "So wait, in the very first notebook and in the external material, we mentioned that in general, the functions we work with will be complex functions and hence the FTs we get will also be complex functions. So how come we evidently *completely* ignored that so far, since there is no way of plotting complex numbers and functions in 1D space?\n",
    "\n",
    "The answer is that so far, we simply dealt with functions who have FTs with negligible imaginary parts. And since `plt.plot()` **defaults to plotting the real part** of a complex number, and the imaginary parts were negligible, we didn't really have any problem - except that we didn't know that we were not, in fact, looking at all the information available to us.\n",
    "\n",
    "Since this is touching upon a new, very important topic, lets move on to notebook 4 with this."
   ]
  },
  {
   "cell_type": "markdown",
   "metadata": {},
   "source": [
    "-----------\n",
    "\n",
    "Just another function definition, without an FT, not really important for this notebook but also useful to have:\n",
    "\n",
    "## The Heaviside step function\n",
    "\n",
    "is defined as:\n",
    "\n",
    "\\begin{equation*}\n",
    "    H(x) = \\begin{cases}\n",
    "               A & \\text{if } x > 0,\\\\\n",
    "               0 & \\text{if } x < 0.\n",
    "          \\end{cases}\n",
    "\\end{equation*}\n",
    "\n",
    "#### Numerical representation of the step function\n",
    "\n",
    "Fortunately, this one is really easy to do:"
   ]
  },
  {
   "cell_type": "code",
   "execution_count": null,
   "metadata": {},
   "outputs": [],
   "source": [
    "A = 3\n",
    "\n",
    "heavy = np.zeros_like(x)\n",
    "heavy[np.where(x > 0)] = A\n",
    "\n",
    "plt.figure(figsize=(10, 5))\n",
    "plt.axhline(0, color='grey', linewidth='0.5')\n",
    "plt.axvline(0, color='grey', linewidth='0.5')\n",
    "plt.xlabel(\"x\")\n",
    "plt.ylabel(\"f(x)\")\n",
    "\n",
    "plt.plot(x, heavy)\n",
    "plt.title(\"$H(x)$\")"
   ]
  },
  {
   "cell_type": "code",
   "execution_count": null,
   "metadata": {},
   "outputs": [],
   "source": [
    "# Lets make a function of that too\n",
    "def heaviside(x, ampl):\n",
    "    \"\"\"Create the Heavyside unit step function with amplitude ampl.\"\"\"\n",
    "    heavy = np.zeros_like(x)\n",
    "    heavy[np.where(x > 0)] = A\n",
    "    \n",
    "    return heavy\n",
    "\n",
    "# Test the function\n",
    "heavy_func = heaviside(x, A)\n",
    "\n",
    "plt.plot(x, heavy_func)"
   ]
  },
  {
   "cell_type": "markdown",
   "metadata": {},
   "source": [
    "### The FT of the Heaviside step function\n",
    "\n",
    "Analytical FT:\n",
    "\n",
    "http://www.thefouriertransform.com/pairs/step.php\n"
   ]
  },
  {
   "cell_type": "markdown",
   "metadata": {},
   "source": [
    "--------------\n",
    "Two more functions that would be neat to do here (with their FTs):\n",
    "\n",
    "## The exponential\n",
    "\n",
    "http://www.thefouriertransform.com/pairs/complexexponential.php"
   ]
  },
  {
   "cell_type": "code",
   "execution_count": null,
   "metadata": {},
   "outputs": [],
   "source": [
    "a = 0.1\n",
    "expo = np.exp(a*x)\n",
    "expo_ft = ft1d(expo)\n",
    "\n",
    "plt.plot(x, expo_ft)\n",
    "plt.xlim(-1, 1)\n",
    "\n",
    "#TODO: finish exponential"
   ]
  },
  {
   "cell_type": "markdown",
   "metadata": {},
   "source": [
    "## The Dirac delta function\n",
    "\n",
    "http://www.thefouriertransform.com/pairs/impulse.php"
   ]
  },
  {
   "cell_type": "code",
   "execution_count": null,
   "metadata": {},
   "outputs": [],
   "source": [
    "#TODO: Dirac delta function"
   ]
  },
  {
   "cell_type": "code",
   "execution_count": null,
   "metadata": {},
   "outputs": [],
   "source": []
  },
  {
   "cell_type": "code",
   "execution_count": null,
   "metadata": {},
   "outputs": [],
   "source": []
  },
  {
   "cell_type": "code",
   "execution_count": null,
   "metadata": {},
   "outputs": [],
   "source": [
    "# For here or separate notebook directly after this:\n",
    "#TODO: we're doing FTs of real functions, but FTs make complex numbers in general. Examples?\n",
    "#Note: started doing nb 4 on symmetry properties, which requires both real and imaginary functions.\n",
    "# Could put some examples in there. I have to get to 2D as soon as possible though.\n",
    "\n",
    "# For later:\n",
    "#TODO: explain sampling\n",
    "#TODO: explain DC component"
   ]
  }
 ],
 "metadata": {
  "kernelspec": {
   "display_name": "Python 3",
   "language": "python",
   "name": "python3"
  },
  "language_info": {
   "codemirror_mode": {
    "name": "ipython",
    "version": 3
   },
   "file_extension": ".py",
   "mimetype": "text/x-python",
   "name": "python",
   "nbconvert_exporter": "python",
   "pygments_lexer": "ipython3",
   "version": "3.7.2"
  }
 },
 "nbformat": 4,
 "nbformat_minor": 2
}
