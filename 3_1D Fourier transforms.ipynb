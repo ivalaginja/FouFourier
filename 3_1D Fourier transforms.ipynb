{
 "cells": [
  {
   "cell_type": "markdown",
   "metadata": {},
   "source": [
    "# Fourier transforms of simple 1D functions\n",
    "\n",
    "Let's have a look now at FTs of simple 1D functions. We will do the same thing for 2D functions later on, and we will also have a look at the numerical properties of the FT at a later time.\n",
    "\n",
    "Both `numpy` and `scipy` come with a Fourier transform module, and I chose arbitrarily to use the functions from `numpy`. Documentation abou the `numpy` fft module can be found here:\n",
    "- https://docs.scipy.org/doc/numpy/reference/routines.fft.html#module-numpy.fft"
   ]
  },
  {
   "cell_type": "code",
   "execution_count": null,
   "metadata": {},
   "outputs": [],
   "source": [
    "import numpy as np\n",
    "import matplotlib.pyplot as plt\n",
    "from scipy import signal\n",
    "%matplotlib inline"
   ]
  },
  {
   "cell_type": "markdown",
   "metadata": {},
   "source": [
    "The FT is given in `numpy` by `np.fft.fft` (`np.fft.fft2` for 2D functions) and the inverse FT is given by `np.fft.ifft`. The extra \"F\" in FFT stands for \"fast Fourier transform\", this is a way of doing the Fourier transform numerically, which we will have a look at later.\n",
    "\n",
    "Two more functions that we will need are `np.fft.fftshift` and `np.fft.ifftshift`. Those perform a shift to get the zero-frequency of our FT or inverse FT back into our image center. How and why will also be explored somewhat later, I just first want to show what some FTs look like generally.\n",
    "\n",
    "Because those shifts are important but take a lot of space when writing code, I will define my own 1D Fourier transforms in two functions, one for the FT and one for the inverse FT."
   ]
  },
  {
   "cell_type": "code",
   "execution_count": null,
   "metadata": {},
   "outputs": [],
   "source": [
    "def ft1d(func):\n",
    "    ft = np.fft.fftshift(np.fft.fft(np.fft.ifftshift(func)))\n",
    "    return ft\n",
    "\n",
    "def ift1d(func):\n",
    "    ift = np.fft.fftshift(np.fft.ifft(np.fft.ifftshift(func)))\n",
    "    return ift"
   ]
  },
  {
   "cell_type": "code",
   "execution_count": null,
   "metadata": {},
   "outputs": [],
   "source": [
    "# We first need to generate the independent variable\n",
    "x = np.linspace(-10, 10, 1000)\n",
    "print(\"Shape of x: {}\".format(x.shape))"
   ]
  },
  {
   "cell_type": "markdown",
   "metadata": {},
   "source": [
    "## The box function\n",
    "\n",
    "The box function is defined as "
   ]
  },
  {
   "cell_type": "code",
   "execution_count": null,
   "metadata": {},
   "outputs": [],
   "source": [
    "A = 1\n",
    "T = 0.3    # TODO: what parameter is this? in what units?\n",
    "sq = A/2 *signal.square(T*x + np.pi/2)    # we use A/2 because we will shif the function up\n",
    "                                          # the + np.pi/2 makes it be centered on 0\n",
    "\n",
    "# shift it so that we only have positive value A and zero, not \n",
    "sq = sq + A/2\n",
    "# We want to keep only the central box, not the periodic function\n",
    "indl = np.where(x < -(np.pi/T))    # nulling left side\n",
    "sq[indl] = 0\n",
    "indr = np.where(x > (np.pi/T))\n",
    "sq[indr] = 0\n",
    "\n",
    "plt.plot(x, sq)"
   ]
  },
  {
   "cell_type": "markdown",
   "metadata": {},
   "source": [
    "It's FT can easily be found analytically:\n",
    "\n",
    "$$$$\n",
    "\n",
    "and numerically it looks like this:"
   ]
  },
  {
   "cell_type": "code",
   "execution_count": null,
   "metadata": {},
   "outputs": [],
   "source": [
    "sq_ft = ft1d(sq)\n",
    "\n",
    "plt.plot(sq_ft)"
   ]
  },
  {
   "cell_type": "code",
   "execution_count": null,
   "metadata": {},
   "outputs": [],
   "source": []
  },
  {
   "cell_type": "code",
   "execution_count": null,
   "metadata": {},
   "outputs": [],
   "source": []
  },
  {
   "cell_type": "code",
   "execution_count": null,
   "metadata": {},
   "outputs": [],
   "source": []
  },
  {
   "cell_type": "code",
   "execution_count": null,
   "metadata": {},
   "outputs": [],
   "source": []
  },
  {
   "cell_type": "markdown",
   "metadata": {},
   "source": [
    "## The deal with the shifts"
   ]
  }
 ],
 "metadata": {
  "kernelspec": {
   "display_name": "Python 3",
   "language": "python",
   "name": "python3"
  },
  "language_info": {
   "codemirror_mode": {
    "name": "ipython",
    "version": 3
   },
   "file_extension": ".py",
   "mimetype": "text/x-python",
   "name": "python",
   "nbconvert_exporter": "python",
   "pygments_lexer": "ipython3",
   "version": "3.7.2"
  }
 },
 "nbformat": 4,
 "nbformat_minor": 2
}
